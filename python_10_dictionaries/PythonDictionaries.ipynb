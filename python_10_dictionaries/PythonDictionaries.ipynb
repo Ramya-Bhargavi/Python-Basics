{
  "nbformat": 4,
  "nbformat_minor": 0,
  "metadata": {
    "colab": {
      "provenance": []
    },
    "kernelspec": {
      "name": "python3",
      "display_name": "Python 3"
    },
    "language_info": {
      "name": "python"
    }
  },
  "cells": [
    {
      "cell_type": "markdown",
      "source": [
        "**Dictionary**\n",
        "\n",
        "Dictionaries are used to store data values in key:value pairs.\n",
        "\n",
        "A dictionary is a collection which is ordered*, changeable and do not allow duplicates.\n",
        "\n",
        "As of Python version 3.7, dictionaries are ordered. In Python 3.6 and earlier, dictionaries are unordered.\n",
        "\n",
        "Dictionaries are written with curly brackets, and have keys and values:"
      ],
      "metadata": {
        "id": "Wa4W3jJmMbW1"
      }
    },
    {
      "cell_type": "code",
      "execution_count": 33,
      "metadata": {
        "colab": {
          "base_uri": "https://localhost:8080/"
        },
        "id": "Jy3adfM_MSja",
        "outputId": "89d60775-6e5c-466b-f4db-18d007df2594"
      },
      "outputs": [
        {
          "output_type": "stream",
          "name": "stdout",
          "text": [
            "{'brand': 'Ford', 'model': 'Mustang', 'year': 1964}\n"
          ]
        }
      ],
      "source": [
        "thisdict = {\n",
        "  \"brand\": \"Ford\",\n",
        "  \"model\": \"Mustang\",\n",
        "  \"year\": 1964\n",
        "}\n",
        "print(thisdict)"
      ]
    },
    {
      "cell_type": "markdown",
      "source": [
        "**Dictionary Items**\n",
        "\n",
        "Dictionary items are ordered, changeable, and does not allow duplicates.\n",
        "\n",
        "Dictionary items are presented in key:value pairs, and can be referred to by using the key name.\n",
        "\n",
        "**Example**\n",
        "\n",
        "Print the \"brand\" value of the dictionary:"
      ],
      "metadata": {
        "id": "1zBIiOkCMkHW"
      }
    },
    {
      "cell_type": "code",
      "source": [
        "thisdict = {\n",
        "  \"brand\": \"Ford\",\n",
        "  \"model\": \"Mustang\",\n",
        "  \"year\": 1964\n",
        "}\n",
        "print(thisdict[\"year\"])\n",
        "print(thisdict)"
      ],
      "metadata": {
        "colab": {
          "base_uri": "https://localhost:8080/"
        },
        "id": "KtL2yYikMhb0",
        "outputId": "9649f09a-8a8d-44c9-b3ca-15d7ef7c631f"
      },
      "execution_count": 79,
      "outputs": [
        {
          "output_type": "stream",
          "name": "stdout",
          "text": [
            "1964\n",
            "{'brand': 'Ford', 'model': 'Mustang', 'year': 1964}\n"
          ]
        }
      ]
    },
    {
      "cell_type": "markdown",
      "source": [
        "**Ordered or Unordered?**\n",
        "\n",
        "As of Python version 3.7, dictionaries are ordered. In Python 3.6 and earlier, dictionaries are unordered.\n",
        "\n",
        "When we say that dictionaries are ordered, it means that the items have a defined order, and that order will not change.\n",
        "\n",
        "Unordered means that the items does not have a defined order, you cannot refer to an item by using an index.\n",
        "\n",
        "**Changeable**\n",
        "\n",
        "Dictionaries are changeable, meaning that we can change, add or remove items after the dictionary has been created.\n",
        "\n",
        "**Duplicates Not Allowed**\n",
        "\n",
        "Dictionaries cannot have two items with the same key:"
      ],
      "metadata": {
        "id": "NmWe1lKOMuuU"
      }
    },
    {
      "cell_type": "code",
      "source": [
        "thisdict = {\n",
        "  \"brand\": \"Ford\",\n",
        "  \"model\": \"Mustang\",\n",
        "  \"year\": 1964,\n",
        "  \"year\": 2020\n",
        "}\n",
        "print(thisdict)"
      ],
      "metadata": {
        "colab": {
          "base_uri": "https://localhost:8080/"
        },
        "id": "_0ky-1t-M5Qc",
        "outputId": "a32498f7-557a-4959-9dc9-ca32ea9e15d5"
      },
      "execution_count": 81,
      "outputs": [
        {
          "output_type": "stream",
          "name": "stdout",
          "text": [
            "{'brand': 'Ford', 'model': 'Mustang', 'year': 2020}\n"
          ]
        }
      ]
    },
    {
      "cell_type": "markdown",
      "source": [
        "**Dictionary Length**\n",
        "\n",
        "To determine how many items a dictionary has, use the len() function:\n",
        "\n",
        "**Example**\n",
        "\n",
        "Print the number of items in the dictionary:"
      ],
      "metadata": {
        "id": "EpeRBmLyM4Wb"
      }
    },
    {
      "cell_type": "code",
      "source": [
        "print(len(thisdict))"
      ],
      "metadata": {
        "colab": {
          "base_uri": "https://localhost:8080/"
        },
        "id": "JOj79KthM_e0",
        "outputId": "f2dea1ee-9a46-4b8d-ac5b-52ea5f63807c"
      },
      "execution_count": 58,
      "outputs": [
        {
          "output_type": "stream",
          "name": "stdout",
          "text": [
            "3\n"
          ]
        }
      ]
    },
    {
      "cell_type": "markdown",
      "source": [
        "**Dictionary Items - Data Types**\n",
        "\n",
        "The values in dictionary items can be of any data type:\n",
        "\n",
        "**Example**\n",
        "\n",
        "String, int, boolean, and list data types:"
      ],
      "metadata": {
        "id": "8eq4bu1PNECl"
      }
    },
    {
      "cell_type": "code",
      "source": [
        "thisdict = {\n",
        "  \"brand\": \"Ford\",\n",
        "  \"electric\": False,\n",
        "  \"year\": 1964,\n",
        "  \"colors\": [\"red\", \"white\", \"blue\"]\n",
        "}\n",
        "\n",
        "print(thisdict[\"colors\"])"
      ],
      "metadata": {
        "colab": {
          "base_uri": "https://localhost:8080/"
        },
        "id": "G4gvFDPjNIyk",
        "outputId": "72bc4e7f-8063-47d2-c369-e1b9ef16631d"
      },
      "execution_count": 82,
      "outputs": [
        {
          "output_type": "stream",
          "name": "stdout",
          "text": [
            "['red', 'white', 'blue']\n"
          ]
        }
      ]
    },
    {
      "cell_type": "markdown",
      "source": [
        "**type()**\n",
        "From Python's perspective, dictionaries are defined as objects with the data type 'dict':\n",
        "\n",
        "<class 'dict'>\n",
        "\n",
        "**Example**\n",
        "\n",
        "Print the data type of a dictionary:"
      ],
      "metadata": {
        "id": "ugOJWVGENK-1"
      }
    },
    {
      "cell_type": "code",
      "source": [
        "thisdict = {\n",
        "  \"brand\": \"Ford\",\n",
        "  \"model\": \"Mustang\",\n",
        "  \"year\": 1964\n",
        "}\n",
        "print(type(thisdict))"
      ],
      "metadata": {
        "colab": {
          "base_uri": "https://localhost:8080/"
        },
        "id": "H_enZ92hNQcs",
        "outputId": "5cbeed44-ebc7-41ee-e71a-083158b1accb"
      },
      "execution_count": 60,
      "outputs": [
        {
          "output_type": "stream",
          "name": "stdout",
          "text": [
            "<class 'dict'>\n"
          ]
        }
      ]
    },
    {
      "cell_type": "markdown",
      "source": [
        "**The dict() Constructor**\n",
        "\n",
        "It is also possible to use the dict() constructor to make a dictionary.\n",
        "\n",
        "**Example**\n",
        "\n",
        "Using the dict() method to make a dictionary:"
      ],
      "metadata": {
        "id": "u_eWjTV4NUVd"
      }
    },
    {
      "cell_type": "code",
      "source": [
        "thisdict = dict(name = \"John\", age = 36, country = \"Norway\")\n",
        "print(thisdict)"
      ],
      "metadata": {
        "colab": {
          "base_uri": "https://localhost:8080/"
        },
        "id": "T4wKIgRWNYyM",
        "outputId": "cc550f4b-4798-4c32-df08-6f58f3aaf1ff"
      },
      "execution_count": 83,
      "outputs": [
        {
          "output_type": "stream",
          "name": "stdout",
          "text": [
            "{'name': 'John', 'age': 36, 'country': 'Norway'}\n"
          ]
        }
      ]
    },
    {
      "cell_type": "markdown",
      "source": [
        "**Accessing Items**\n",
        "You can access the items of a dictionary by referring to its key name, inside square brackets:\n",
        "\n",
        "**Example**\n",
        "Get the value of the \"model\" key:"
      ],
      "metadata": {
        "id": "a2POU5tRNd00"
      }
    },
    {
      "cell_type": "code",
      "source": [
        "thisdict = {\n",
        "  \"brand\": \"Ford\",\n",
        "  \"model\": \"Mustang\",\n",
        "  \"year\": 1964\n",
        "}\n",
        "x = thisdict[\"model\"]\n",
        "print(x)"
      ],
      "metadata": {
        "colab": {
          "base_uri": "https://localhost:8080/"
        },
        "id": "YcSd2O0ANgfk",
        "outputId": "2bed6f90-a15f-4e83-b32a-b7553d222d60"
      },
      "execution_count": 86,
      "outputs": [
        {
          "output_type": "stream",
          "name": "stdout",
          "text": [
            "Mustang\n"
          ]
        }
      ]
    },
    {
      "cell_type": "markdown",
      "source": [
        "There is also a method called get() that will give you the same result:\n",
        "\n",
        "**Example**\n",
        "\n",
        "Get the value of the \"model\" key:"
      ],
      "metadata": {
        "id": "exHBUtzYNkQs"
      }
    },
    {
      "cell_type": "code",
      "source": [
        "x = thisdict.get(\"model\")\n",
        "\n",
        "print(x)"
      ],
      "metadata": {
        "colab": {
          "base_uri": "https://localhost:8080/"
        },
        "id": "5v0dPDd-NlyF",
        "outputId": "7c043744-0ef1-4868-b4d7-8a81e2b60af8"
      },
      "execution_count": 87,
      "outputs": [
        {
          "output_type": "stream",
          "name": "stdout",
          "text": [
            "Mustang\n"
          ]
        }
      ]
    },
    {
      "cell_type": "markdown",
      "source": [
        "**Get Keys**\n",
        "The keys() method will return a list of all the keys in the dictionary.\n",
        "\n",
        "**Example**\n",
        "Get a list of the keys:"
      ],
      "metadata": {
        "id": "P6lxisYcNqaU"
      }
    },
    {
      "cell_type": "code",
      "source": [
        "x = thisdict.keys()\n",
        "\n",
        "print(x)\n",
        "\n",
        "print(type(x))"
      ],
      "metadata": {
        "colab": {
          "base_uri": "https://localhost:8080/"
        },
        "id": "VePVgcBuNog0",
        "outputId": "d01a06be-959a-45b6-f34b-50ef9d632793"
      },
      "execution_count": 89,
      "outputs": [
        {
          "output_type": "stream",
          "name": "stdout",
          "text": [
            "dict_keys(['brand', 'model', 'year'])\n",
            "<class 'dict_keys'>\n"
          ]
        }
      ]
    },
    {
      "cell_type": "markdown",
      "source": [
        "The list of the keys is a view of the dictionary, meaning that any changes done to the dictionary will be reflected in the keys list.\n",
        "\n",
        "**Example**\n",
        "Add a new item to the original dictionary, and see that the keys list gets updated as well:"
      ],
      "metadata": {
        "id": "KpD1Ql4HNwuN"
      }
    },
    {
      "cell_type": "code",
      "source": [
        "car = {\n",
        "\"brand\": \"Ford\",\n",
        "\"model\": \"Mustang\",\n",
        "\"year\": 1964\n",
        "}\n",
        "\n",
        "x = car.keys()\n",
        "\n",
        "print(x) #before the change\n",
        "\n",
        "car[\"color\"] = \"white\"\n",
        "\n",
        "print(x) #after the change"
      ],
      "metadata": {
        "colab": {
          "base_uri": "https://localhost:8080/"
        },
        "id": "B59YQtH5NySl",
        "outputId": "9efe8133-f8e4-4968-8b4d-8b36e118b900"
      },
      "execution_count": 90,
      "outputs": [
        {
          "output_type": "stream",
          "name": "stdout",
          "text": [
            "dict_keys(['brand', 'model', 'year'])\n",
            "dict_keys(['brand', 'model', 'year', 'color'])\n"
          ]
        }
      ]
    },
    {
      "cell_type": "markdown",
      "source": [
        "**Get Values**\n",
        "The values() method will return a list of all the values in the dictionary.\n",
        "\n",
        "**Example**\n",
        "Get a list of the values:"
      ],
      "metadata": {
        "id": "tXxVqonON57d"
      }
    },
    {
      "cell_type": "code",
      "source": [
        "x = thisdict.values()\n",
        "print(x)"
      ],
      "metadata": {
        "colab": {
          "base_uri": "https://localhost:8080/"
        },
        "id": "YSsv9BGcN27m",
        "outputId": "4d8993da-c64d-4a35-c153-25b2677c7bc6"
      },
      "execution_count": 91,
      "outputs": [
        {
          "output_type": "stream",
          "name": "stdout",
          "text": [
            "dict_values(['Ford', 'Mustang', 1964])\n"
          ]
        }
      ]
    },
    {
      "cell_type": "markdown",
      "source": [
        "The list of the values is a view of the dictionary, meaning that any changes done to the dictionary will be reflected in the values list.\n",
        "\n",
        "**Example**\n",
        "\n",
        "Make a change in the original dictionary, and see that the values list gets updated as well:"
      ],
      "metadata": {
        "id": "_uQlJMudOAI7"
      }
    },
    {
      "cell_type": "code",
      "source": [
        "car = {\n",
        "\"brand\": \"Ford\",\n",
        "\"model\": \"Mustang\",\n",
        "\"year\": 1964\n",
        "}\n",
        "\n",
        "x = car.values()\n",
        "\n",
        "print(x) #before the change\n",
        "\n",
        "car[\"year\"] = 2023\n",
        "\n",
        "print(x) #after the change\n",
        "\n",
        "print(type(x))"
      ],
      "metadata": {
        "colab": {
          "base_uri": "https://localhost:8080/"
        },
        "id": "4kQI1d1vODiU",
        "outputId": "2b2c1b5d-1097-49f3-9719-a28a95bb328f"
      },
      "execution_count": 93,
      "outputs": [
        {
          "output_type": "stream",
          "name": "stdout",
          "text": [
            "dict_values(['Ford', 'Mustang', 1964])\n",
            "dict_values(['Ford', 'Mustang', 2023])\n",
            "<class 'dict_values'>\n"
          ]
        }
      ]
    },
    {
      "cell_type": "markdown",
      "source": [
        "**Example**\n",
        "\n",
        "Add a new item to the original dictionary, and see that the values list gets updated as well:"
      ],
      "metadata": {
        "id": "HLTI4NLvOG1U"
      }
    },
    {
      "cell_type": "code",
      "source": [
        "car = {\n",
        "\"brand\": \"Ford\",\n",
        "\"model\": \"Mustang\",\n",
        "\"year\": 1964\n",
        "}\n",
        "\n",
        "x = car.values()\n",
        "\n",
        "print(x) #before the change\n",
        "\n",
        "car[\"color\"] = \"red\"\n",
        "\n",
        "print(x) #after the change\n",
        "\n",
        "print(car)"
      ],
      "metadata": {
        "colab": {
          "base_uri": "https://localhost:8080/"
        },
        "id": "uPvd090hOMkl",
        "outputId": "b992f892-13f3-4593-c768-5ff4c02ae25e"
      },
      "execution_count": 94,
      "outputs": [
        {
          "output_type": "stream",
          "name": "stdout",
          "text": [
            "dict_values(['Ford', 'Mustang', 1964])\n",
            "dict_values(['Ford', 'Mustang', 1964, 'red'])\n",
            "{'brand': 'Ford', 'model': 'Mustang', 'year': 1964, 'color': 'red'}\n"
          ]
        }
      ]
    },
    {
      "cell_type": "markdown",
      "source": [
        "**Get Items**\n",
        "The items() method will return each item in a dictionary, as tuples in a list.\n",
        "\n",
        "**Example**\n",
        "Get a list of the key:value pairs"
      ],
      "metadata": {
        "id": "KZwH6QrtOE57"
      }
    },
    {
      "cell_type": "code",
      "source": [
        "x = thisdict.items()\n",
        "print(x)"
      ],
      "metadata": {
        "colab": {
          "base_uri": "https://localhost:8080/"
        },
        "id": "riIhZvT4ORwl",
        "outputId": "44f63eeb-7b95-4203-e1dc-de38d967d52e"
      },
      "execution_count": 95,
      "outputs": [
        {
          "output_type": "stream",
          "name": "stdout",
          "text": [
            "dict_items([('brand', 'Ford'), ('model', 'Mustang'), ('year', 1964)])\n"
          ]
        }
      ]
    },
    {
      "cell_type": "markdown",
      "source": [
        "The returned list is a view of the items of the dictionary, meaning that any changes done to the dictionary will be reflected in the items list.\n",
        "\n",
        "**Example**\n",
        "\n",
        "Make a change in the original dictionary, and see that the items list gets updated as well:"
      ],
      "metadata": {
        "id": "EeIu-DecOVsb"
      }
    },
    {
      "cell_type": "code",
      "source": [
        "car = {\n",
        "\"brand\": \"Ford\",\n",
        "\"model\": \"Mustang\",\n",
        "\"year\": 1964\n",
        "}\n",
        "\n",
        "x = car.items()\n",
        "\n",
        "print(x) #before the change\n",
        "\n",
        "car[\"year\"] = 2020\n",
        "\n",
        "print(x) #after the change"
      ],
      "metadata": {
        "colab": {
          "base_uri": "https://localhost:8080/"
        },
        "id": "njGXxsXPOYrD",
        "outputId": "a56ce730-c6b9-45dc-bf21-77007bc26f44"
      },
      "execution_count": 74,
      "outputs": [
        {
          "output_type": "stream",
          "name": "stdout",
          "text": [
            "dict_items([('brand', 'Ford'), ('model', 'Mustang'), ('year', 1964)])\n",
            "dict_items([('brand', 'Ford'), ('model', 'Mustang'), ('year', 2020)])\n"
          ]
        }
      ]
    },
    {
      "cell_type": "markdown",
      "source": [
        "**Example**\n",
        "\n",
        "Add a new item to the original dictionary, and see that the items list gets updated as well:"
      ],
      "metadata": {
        "id": "zmLxkj_gOc2j"
      }
    },
    {
      "cell_type": "code",
      "source": [
        "car = {\n",
        "\"brand\": \"Ford\",\n",
        "\"model\": \"Mustang\",\n",
        "\"year\": 1964\n",
        "}\n",
        "\n",
        "x = car.items()\n",
        "\n",
        "print(x) #before the change\n",
        "\n",
        "car[\"color\"] = \"red\"\n",
        "\n",
        "print(x) #after the change\n",
        "\n",
        "car[\"color\"]=\"blue\"\n",
        "\n",
        "print(x)"
      ],
      "metadata": {
        "colab": {
          "base_uri": "https://localhost:8080/"
        },
        "id": "NLJPz6U3OgSk",
        "outputId": "ad743445-6139-4ff5-bd05-de553d912fca"
      },
      "execution_count": 96,
      "outputs": [
        {
          "output_type": "stream",
          "name": "stdout",
          "text": [
            "dict_items([('brand', 'Ford'), ('model', 'Mustang'), ('year', 1964)])\n",
            "dict_items([('brand', 'Ford'), ('model', 'Mustang'), ('year', 1964), ('color', 'red')])\n",
            "dict_items([('brand', 'Ford'), ('model', 'Mustang'), ('year', 1964), ('color', 'blue')])\n"
          ]
        }
      ]
    },
    {
      "cell_type": "markdown",
      "source": [
        "**Check if Key Exists**\n",
        "\n",
        "To determine if a specified key is present in a dictionary use the in keyword:\n",
        "\n",
        "**Example**\n",
        "\n",
        "Check if \"model\" is present in the dictionary:"
      ],
      "metadata": {
        "id": "chkNDFQ9Ok90"
      }
    },
    {
      "cell_type": "code",
      "source": [
        "thisdict = {\n",
        "  \"brand\": \"Ford\",\n",
        "  \"model\": \"Mustang\",\n",
        "  \"year\": 1964\n",
        "}\n",
        "if \"model\" in thisdict:\n",
        "  print(\"Yes, 'model' is one of the keys in the thisdict dictionary\")\n",
        "\n",
        "\n",
        "thisdict[\"color\"]=\"red\"\n",
        "\n",
        "print(thisdict)\n",
        "\n",
        "if \"color\" in thisdict:\n",
        "  print(\"yes color is present\")"
      ],
      "metadata": {
        "colab": {
          "base_uri": "https://localhost:8080/"
        },
        "id": "j6SwzIYwOoak",
        "outputId": "1c2476b1-63a7-4c0d-93ea-b5c40f322fa6"
      },
      "execution_count": 100,
      "outputs": [
        {
          "output_type": "stream",
          "name": "stdout",
          "text": [
            "Yes, 'model' is one of the keys in the thisdict dictionary\n",
            "{'brand': 'Ford', 'model': 'Mustang', 'year': 1964, 'color': 'red'}\n",
            "yes color is present\n"
          ]
        }
      ]
    },
    {
      "cell_type": "markdown",
      "source": [
        "**Adding Items**\n",
        "\n",
        "Adding an item to the dictionary is done by using a new index key and assigning a value to it:"
      ],
      "metadata": {
        "id": "H456DcI8OvzW"
      }
    },
    {
      "cell_type": "code",
      "source": [
        "thisdict = {\n",
        "  \"brand\": \"Ford\",\n",
        "  \"model\": \"Mustang\",\n",
        "  \"year\": 1964\n",
        "}\n",
        "thisdict[\"color\"] = \"red\"\n",
        "print(thisdict)"
      ],
      "metadata": {
        "colab": {
          "base_uri": "https://localhost:8080/"
        },
        "id": "cAYZWxu9Oxxz",
        "outputId": "934ab9c8-dcd0-4136-9c2f-a9aa98d8cbae"
      },
      "execution_count": 51,
      "outputs": [
        {
          "output_type": "stream",
          "name": "stdout",
          "text": [
            "{'brand': 'Ford', 'model': 'Mustang', 'year': 1964, 'color': 'red'}\n"
          ]
        }
      ]
    },
    {
      "cell_type": "markdown",
      "source": [
        "**Update Dictionary**\n",
        "The update() method will update the dictionary with the items from a given argument. If the item does not exist, the item will be added.\n",
        "\n",
        "The argument must be a dictionary, or an iterable object with key:value pairs.\n",
        "\n",
        "**Example**\n",
        "Add a color item to the dictionary by using the update() method:"
      ],
      "metadata": {
        "id": "NJswyYHjO5ie"
      }
    },
    {
      "cell_type": "code",
      "source": [
        "thisdict = {\n",
        "  \"brand\": \"Ford\",\n",
        "  \"model\": \"Mustang\",\n",
        "  \"year\": 1964\n",
        "}\n",
        "thisdict.update({\"color\": \"red\"})\n",
        "\n",
        "print(thisdict)"
      ],
      "metadata": {
        "colab": {
          "base_uri": "https://localhost:8080/"
        },
        "id": "JZsE9EPnO7YL",
        "outputId": "ec466f4e-962b-45fb-f46f-291e99a1a325"
      },
      "execution_count": 102,
      "outputs": [
        {
          "output_type": "stream",
          "name": "stdout",
          "text": [
            "{'brand': 'Ford', 'model': 'Mustang', 'year': 1964, 'color': 'red'}\n"
          ]
        }
      ]
    },
    {
      "cell_type": "markdown",
      "source": [
        "**Removing Items**\n",
        "\n",
        "There are several methods to remove items from a dictionary:\n",
        "\n",
        "**Example**\n",
        "\n",
        "The pop() method removes the item with the specified key name:"
      ],
      "metadata": {
        "id": "uZP1Ei-hPB1j"
      }
    },
    {
      "cell_type": "code",
      "source": [
        "thisdict = {\n",
        "  \"brand\": \"Ford\",\n",
        "  \"model\": \"Mustang\",\n",
        "  \"year\": 1964\n",
        "}\n",
        "thisdict.pop(\"model\")\n",
        "print(thisdict)"
      ],
      "metadata": {
        "colab": {
          "base_uri": "https://localhost:8080/"
        },
        "id": "dyE7IGYWO_Bd",
        "outputId": "33b040ef-b5e3-4cac-cc49-7a3b1185a14e"
      },
      "execution_count": 103,
      "outputs": [
        {
          "output_type": "stream",
          "name": "stdout",
          "text": [
            "{'brand': 'Ford', 'year': 1964}\n"
          ]
        }
      ]
    },
    {
      "cell_type": "markdown",
      "source": [
        "**Example**\n",
        "\n",
        "The popitem() method removes the last inserted item (in versions before 3.7, a random item is removed instead):"
      ],
      "metadata": {
        "id": "8DdMwyI4PLY0"
      }
    },
    {
      "cell_type": "code",
      "source": [
        "thisdict = {\n",
        "  \"brand\": \"Ford\",\n",
        "  \"model\": \"Mustang\",\n",
        "  \"year\": 1964\n",
        "}\n",
        "thisdict.popitem()\n",
        "print(thisdict)"
      ],
      "metadata": {
        "colab": {
          "base_uri": "https://localhost:8080/"
        },
        "id": "Cs3gpLbUPNHD",
        "outputId": "d727bc13-2503-41ea-9bb9-8a5a87dca371"
      },
      "execution_count": 104,
      "outputs": [
        {
          "output_type": "stream",
          "name": "stdout",
          "text": [
            "{'brand': 'Ford', 'model': 'Mustang'}\n"
          ]
        }
      ]
    },
    {
      "cell_type": "markdown",
      "source": [
        "**Example**\n",
        "\n",
        "The del keyword removes the item with the specified key name:"
      ],
      "metadata": {
        "id": "7XDF_wLCPgz0"
      }
    },
    {
      "cell_type": "code",
      "source": [
        "thisdict = {\n",
        "  \"brand\": \"Ford\",\n",
        "  \"model\": \"Mustang\",\n",
        "  \"year\": 1964\n",
        "}\n",
        "del thisdict[\"model\"]\n",
        "print(thisdict)"
      ],
      "metadata": {
        "colab": {
          "base_uri": "https://localhost:8080/"
        },
        "id": "ctFGBseIPirz",
        "outputId": "af76ebed-21e7-49b8-e989-57dbbac1cff3"
      },
      "execution_count": 55,
      "outputs": [
        {
          "output_type": "stream",
          "name": "stdout",
          "text": [
            "{'brand': 'Ford', 'year': 1964}\n"
          ]
        }
      ]
    },
    {
      "cell_type": "markdown",
      "source": [
        "**Example**\n",
        "\n",
        "The del keyword can also delete the dictionary completely:"
      ],
      "metadata": {
        "id": "Fu3nIRzNPnVT"
      }
    },
    {
      "cell_type": "code",
      "source": [
        "thisdict = {\n",
        "  \"brand\": \"Ford\",\n",
        "  \"model\": \"Mustang\",\n",
        "  \"year\": 1964\n",
        "}\n",
        "del thisdict\n",
        "\n",
        "print(thisdict) #this will cause an error because \"thisdict\" no longer exists."
      ],
      "metadata": {
        "colab": {
          "base_uri": "https://localhost:8080/",
          "height": 200
        },
        "id": "UVhvlHDRPlO7",
        "outputId": "51fd2111-a311-4400-aa1a-591adc8a8745"
      },
      "execution_count": 105,
      "outputs": [
        {
          "output_type": "error",
          "ename": "NameError",
          "evalue": "ignored",
          "traceback": [
            "\u001b[0;31m---------------------------------------------------------------------------\u001b[0m",
            "\u001b[0;31mNameError\u001b[0m                                 Traceback (most recent call last)",
            "\u001b[0;32m<ipython-input-105-f2973010ee87>\u001b[0m in \u001b[0;36m<module>\u001b[0;34m\u001b[0m\n\u001b[1;32m      6\u001b[0m \u001b[0;32mdel\u001b[0m \u001b[0mthisdict\u001b[0m\u001b[0;34m\u001b[0m\u001b[0;34m\u001b[0m\u001b[0m\n\u001b[1;32m      7\u001b[0m \u001b[0;34m\u001b[0m\u001b[0m\n\u001b[0;32m----> 8\u001b[0;31m \u001b[0mprint\u001b[0m\u001b[0;34m(\u001b[0m\u001b[0mthisdict\u001b[0m\u001b[0;34m)\u001b[0m \u001b[0;31m#this will cause an error because \"thisdict\" no longer exists.\u001b[0m\u001b[0;34m\u001b[0m\u001b[0;34m\u001b[0m\u001b[0m\n\u001b[0m",
            "\u001b[0;31mNameError\u001b[0m: name 'thisdict' is not defined"
          ]
        }
      ]
    },
    {
      "cell_type": "markdown",
      "source": [
        "**Example**\n",
        "The clear() method empties the dictionary:"
      ],
      "metadata": {
        "id": "ySo4QkgKPr7r"
      }
    },
    {
      "cell_type": "code",
      "source": [
        "thisdict = {\n",
        "  \"brand\": \"Ford\",\n",
        "  \"model\": \"Mustang\",\n",
        "  \"year\": 1964\n",
        "}\n",
        "thisdict.clear()\n",
        "print(thisdict)\n",
        "\n",
        "thisdict[\"color\"]=\"red\"\n",
        "print(thisdict)"
      ],
      "metadata": {
        "colab": {
          "base_uri": "https://localhost:8080/"
        },
        "id": "P5KPjoqoPvHj",
        "outputId": "0f93b9f3-0eb5-4b6c-f02c-1ed8b2d704fa"
      },
      "execution_count": 108,
      "outputs": [
        {
          "output_type": "stream",
          "name": "stdout",
          "text": [
            "{}\n",
            "{'color': 'red'}\n"
          ]
        }
      ]
    },
    {
      "cell_type": "markdown",
      "source": [
        "**Loop Through a Dictionary**\n",
        "\n",
        "You can loop through a dictionary by using a for loop.\n",
        "\n",
        "When looping through a dictionary, the return value are the keys of the dictionary, but there are methods to return the values as well.\n",
        "\n",
        "**Example**\n",
        "Print all key names in the dictionary, one by one:"
      ],
      "metadata": {
        "id": "bI3sl7zXP2Dz"
      }
    },
    {
      "cell_type": "code",
      "source": [
        "thisdict = {\n",
        "  \"brand\": \"Ford\",\n",
        "  \"model\": \"Mustang\",\n",
        "  \"year\": 1964\n",
        "}\n",
        "\n",
        "for x in thisdict:\n",
        "  print(x)"
      ],
      "metadata": {
        "colab": {
          "base_uri": "https://localhost:8080/"
        },
        "id": "pfMkjdjoPx1j",
        "outputId": "65bcaceb-7dc5-4de0-89a0-8923d025b82b"
      },
      "execution_count": 109,
      "outputs": [
        {
          "output_type": "stream",
          "name": "stdout",
          "text": [
            "brand\n",
            "model\n",
            "year\n"
          ]
        }
      ]
    },
    {
      "cell_type": "markdown",
      "source": [
        "**Example**\n",
        "\n",
        "Print all values in the dictionary, one by one:"
      ],
      "metadata": {
        "id": "DsKKdko6P_A0"
      }
    },
    {
      "cell_type": "code",
      "source": [
        "for temp in thisdict:\n",
        "  print(thisdict[temp])"
      ],
      "metadata": {
        "colab": {
          "base_uri": "https://localhost:8080/"
        },
        "id": "M0TzEG7mP-SM",
        "outputId": "1846d6f6-5b4f-4c95-baac-4221bb6480a3"
      },
      "execution_count": 110,
      "outputs": [
        {
          "output_type": "stream",
          "name": "stdout",
          "text": [
            "Ford\n",
            "Mustang\n",
            "1964\n"
          ]
        }
      ]
    },
    {
      "cell_type": "markdown",
      "source": [
        "**Example**\n",
        "\n",
        "You can also use the values() method to return values of a dictionary:"
      ],
      "metadata": {
        "id": "0tLYpKBYQHi7"
      }
    },
    {
      "cell_type": "code",
      "source": [
        "for x in thisdict.values():\n",
        "  print(x)"
      ],
      "metadata": {
        "colab": {
          "base_uri": "https://localhost:8080/"
        },
        "id": "A-D0k0RtQDA2",
        "outputId": "13953a11-2232-4486-f313-0159f6d5bdf6"
      },
      "execution_count": 111,
      "outputs": [
        {
          "output_type": "stream",
          "name": "stdout",
          "text": [
            "Ford\n",
            "Mustang\n",
            "1964\n"
          ]
        }
      ]
    },
    {
      "cell_type": "markdown",
      "source": [
        "**Example**\n",
        "\n",
        "You can use the keys() method to return the keys of a dictionary:"
      ],
      "metadata": {
        "id": "P5K8PxXFQN8z"
      }
    },
    {
      "cell_type": "code",
      "source": [
        "for x in thisdict.keys():\n",
        "  print(x)"
      ],
      "metadata": {
        "colab": {
          "base_uri": "https://localhost:8080/"
        },
        "id": "vk3BLp4mQPdM",
        "outputId": "16533043-ce42-4f4a-d029-0c87a9453a5b"
      },
      "execution_count": 112,
      "outputs": [
        {
          "output_type": "stream",
          "name": "stdout",
          "text": [
            "brand\n",
            "model\n",
            "year\n"
          ]
        }
      ]
    },
    {
      "cell_type": "markdown",
      "source": [
        "**Example**\n",
        "\n",
        "Loop through both keys and values, by using the items() method:"
      ],
      "metadata": {
        "id": "eV8daeBuQR2M"
      }
    },
    {
      "cell_type": "code",
      "source": [
        "for x, y in thisdict.items():\n",
        "  print(x,y)"
      ],
      "metadata": {
        "colab": {
          "base_uri": "https://localhost:8080/"
        },
        "id": "q5MpRXzyQUvs",
        "outputId": "d665b86e-d331-41c1-aab6-b1e1d636d130"
      },
      "execution_count": 116,
      "outputs": [
        {
          "output_type": "stream",
          "name": "stdout",
          "text": [
            "brand Ford\n",
            "model Mustang\n",
            "year 1964\n"
          ]
        }
      ]
    },
    {
      "cell_type": "markdown",
      "source": [
        "**Copy a Dictionary**\n",
        "You cannot copy a dictionary simply by typing dict2 = dict1, because: dict2 will only be a reference to dict1, and changes made in dict1 will automatically also be made in dict2.\n",
        "\n",
        "There are ways to make a copy, one way is to use the built-in Dictionary method copy().\n",
        "\n",
        "**Example**\n",
        "Make a copy of a dictionary with the copy() method:"
      ],
      "metadata": {
        "id": "4dZ039kCRHn7"
      }
    },
    {
      "cell_type": "code",
      "source": [
        "thisdict = {\n",
        "  \"brand\": \"Ford\",\n",
        "  \"model\": \"Mustang\",\n",
        "  \"year\": 1964\n",
        "}\n",
        "mydict = thisdict.copy()\n",
        "print(mydict)"
      ],
      "metadata": {
        "colab": {
          "base_uri": "https://localhost:8080/"
        },
        "id": "bfoZ83IjRKpL",
        "outputId": "36b9e956-3165-4373-edf7-30f4f6ca1c91"
      },
      "execution_count": 117,
      "outputs": [
        {
          "output_type": "stream",
          "name": "stdout",
          "text": [
            "{'brand': 'Ford', 'model': 'Mustang', 'year': 1964}\n"
          ]
        }
      ]
    },
    {
      "cell_type": "markdown",
      "source": [
        "Another way to make a copy is to use the built-in function dict().\n",
        "\n",
        "**Example**\n",
        "\n",
        "Make a copy of a dictionary with the dict() function:"
      ],
      "metadata": {
        "id": "_Z3zhO4GROkr"
      }
    },
    {
      "cell_type": "code",
      "source": [
        "thisdict = {\n",
        "  \"brand\": \"Ford\",\n",
        "  \"model\": \"Mustang\",\n",
        "  \"year\": 1964\n",
        "}\n",
        "mydict = dict(thisdict)\n",
        "print(mydict)"
      ],
      "metadata": {
        "colab": {
          "base_uri": "https://localhost:8080/"
        },
        "id": "C5KoCcd5RQcG",
        "outputId": "15470ac1-c272-4d4b-d9f2-67947b440fb1"
      },
      "execution_count": 118,
      "outputs": [
        {
          "output_type": "stream",
          "name": "stdout",
          "text": [
            "{'brand': 'Ford', 'model': 'Mustang', 'year': 1964}\n"
          ]
        }
      ]
    },
    {
      "cell_type": "markdown",
      "source": [
        "**Nested Dictionaries**\n",
        "A dictionary can contain dictionaries, this is called nested dictionaries.\n",
        "\n",
        "**Example**\n",
        "Create a dictionary that contain three dictionaries:"
      ],
      "metadata": {
        "id": "k2bZbKCIRTdr"
      }
    },
    {
      "cell_type": "code",
      "source": [
        "myfamily = {\n",
        "    \n",
        "  \"child1\" : {\n",
        "    \"name\" : \"Emil\",\n",
        "    \"year\" : 2004\n",
        "  },\n",
        "  \"child2\" : {\n",
        "    \"name\" : \"Tobias\",\n",
        "    \"year\" : 2007\n",
        "  },\n",
        "  \"child3\" : {\n",
        "    \"name\" : \"Linus\",\n",
        "    \"year\" : 2011\n",
        "  }\n",
        "\n",
        "}\n",
        "\n",
        "print(myfamily)"
      ],
      "metadata": {
        "colab": {
          "base_uri": "https://localhost:8080/"
        },
        "id": "QAzASrScRZXi",
        "outputId": "47ffd5c3-71e7-41d7-c076-b9193164d996"
      },
      "execution_count": 119,
      "outputs": [
        {
          "output_type": "stream",
          "name": "stdout",
          "text": [
            "{'child1': {'name': 'Emil', 'year': 2004}, 'child2': {'name': 'Tobias', 'year': 2007}, 'child3': {'name': 'Linus', 'year': 2011}}\n"
          ]
        }
      ]
    },
    {
      "cell_type": "markdown",
      "source": [
        "Or, if you want to add three dictionaries into a new dictionary:\n",
        "\n",
        "**Example**\n",
        "\n",
        "Create three dictionaries, then create one dictionary that will contain the other three dictionaries:"
      ],
      "metadata": {
        "id": "HMUQ3zZ9RdRW"
      }
    },
    {
      "cell_type": "code",
      "source": [
        "child1 = {\n",
        "  \"name\" : \"Emil\",\n",
        "  \"year\" : 2004\n",
        "}\n",
        "child2 = {\n",
        "  \"name\" : \"ramya\",\n",
        "  \"year\" : 2007\n",
        "}\n",
        "child3 = {\n",
        "  \"name\" : \"Linus\",\n",
        "  \"year\" : 2011\n",
        "}\n",
        "\n",
        "myfamily_1= {\n",
        "  \"child_a\" : child1,\n",
        "  \"child_b\" : child2,\n",
        "  \"child_c\" : child3\n",
        "}\n",
        "\n",
        "print(myfamily_1)"
      ],
      "metadata": {
        "colab": {
          "base_uri": "https://localhost:8080/"
        },
        "id": "_NdVV53pRg19",
        "outputId": "4241c675-e79c-47d1-9c05-9aa8937b29ec"
      },
      "execution_count": 124,
      "outputs": [
        {
          "output_type": "stream",
          "name": "stdout",
          "text": [
            "{'child_a': {'name': 'Emil', 'year': 2004}, 'child_b': {'name': 'ramya', 'year': 2007}, 'child_c': {'name': 'Linus', 'year': 2011}}\n"
          ]
        }
      ]
    },
    {
      "cell_type": "markdown",
      "source": [
        "**Access Items in Nested Dictionaries**\n",
        "\n",
        "To access items from a nested dictionary, you use the name of the dictionaries, starting with the outer dictionary:"
      ],
      "metadata": {
        "id": "TYJv42diRk9T"
      }
    },
    {
      "cell_type": "markdown",
      "source": [
        "**Example**\n",
        "\n",
        "Print the name of child 2:"
      ],
      "metadata": {
        "id": "WIv7V58NRo7S"
      }
    },
    {
      "cell_type": "code",
      "source": [
        "print(myfamily_1[\"child_b\"][\"name\"])"
      ],
      "metadata": {
        "colab": {
          "base_uri": "https://localhost:8080/"
        },
        "id": "J5uySocCRmmk",
        "outputId": "efd5e805-a035-4237-a91c-e259f9603913"
      },
      "execution_count": 125,
      "outputs": [
        {
          "output_type": "stream",
          "name": "stdout",
          "text": [
            "ramya\n"
          ]
        }
      ]
    },
    {
      "cell_type": "markdown",
      "source": [
        "**Dictionary Methods**\n",
        "\n",
        "Python has a set of built-in methods that you can use on dictionaries."
      ],
      "metadata": {
        "id": "l9tHLDT8RtiK"
      }
    },
    {
      "cell_type": "markdown",
      "source": [
        "**Method\tDescription**\n",
        "\n",
        "clear()\tRemoves all the elements from the dictionary\n",
        "\n",
        "copy()\tReturns a copy of the dictionary\n",
        "\n",
        "fromkeys()\tReturns a dictionary with the specified keys and value\n",
        "\n",
        "get()\tReturns the value of the specified key\n",
        "\n",
        "items()\tReturns a list containing a tuple for each key value pair\n",
        "\n",
        "keys()\tReturns a list containing the dictionary's keys\n",
        "\n",
        "pop()\tRemoves the element with the specified key\n",
        "\n",
        "popitem()\tRemoves the last inserted key-value pair\n",
        "\n",
        "setdefault()\tReturns the value of the specified key. If the key does not \n",
        "\n",
        "exist: insert the key, with the specified value\n",
        "\n",
        "update()\tUpdates the dictionary with the specified key-value pairs\n",
        "\n",
        "values()\tReturns a list of all the values in the dictionary"
      ],
      "metadata": {
        "id": "MYUnjOuRR5qz"
      }
    },
    {
      "cell_type": "code",
      "source": [],
      "metadata": {
        "id": "HenrnxezRyAD"
      },
      "execution_count": null,
      "outputs": []
    }
  ]
}
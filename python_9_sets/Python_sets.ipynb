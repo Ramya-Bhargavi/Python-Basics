{
  "cells": [
    {
      "cell_type": "markdown",
      "metadata": {
        "id": "Azr8mBlj8f76"
      },
      "source": [
        "**Set**\n",
        "\n",
        "Sets are used to store multiple items in a single variable.\n",
        "\n",
        "Set is one of 4 built-in data types in Python used to store collections of data, the other 3 are List, Tuple, and Dictionary, all with different qualities and usage.\n",
        "\n",
        "A set is a collection which is unordered, unchangeable*, and unindexed.\n",
        "\n",
        "* Note: Set items are unchangeable, but you can remove items and add new items. \n",
        "\n",
        "Sets are written with curly brackets.\n",
        "\n",
        "Example\n",
        "Create a Set:\n"
      ]
    },
    {
      "cell_type": "code",
      "execution_count": 1,
      "metadata": {
        "colab": {
          "base_uri": "https://localhost:8080/"
        },
        "id": "ZnHyOBwR8eW6",
        "outputId": "55cb0d6a-2e31-4756-d56a-177f663bf6bf"
      },
      "outputs": [
        {
          "output_type": "stream",
          "name": "stdout",
          "text": [
            "{'cherry', 'banana', 'apple'}\n"
          ]
        }
      ],
      "source": [
        "thisset = {\"apple\", \"banana\", \"cherry\"}\n",
        "print(thisset)"
      ]
    },
    {
      "cell_type": "markdown",
      "metadata": {
        "id": "UoGX8hek8vPx"
      },
      "source": [
        "Note: Sets are unordered, so you cannot be sure in which order the items will appear.\n",
        "\n",
        "**Set Items**\n",
        "Set items are unordered, unchangeable, and do not allow duplicate values.\n",
        "\n",
        "**Unordered**\n",
        "Unordered means that the items in a set do not have a defined order.\n",
        "\n",
        "Set items can appear in a different order every time you use them, and cannot be referred to by index or key.\n",
        "\n",
        "**Unchangeable**\n",
        "Set items are unchangeable, meaning that we cannot change the items after the set has been created.\n",
        "\n",
        "Once a set is created, you cannot change its items, but you can remove items and add new items.\n",
        "\n",
        "**Duplicates Not Allowed**\n",
        "Sets cannot have two items with the same value.\n",
        "\n",
        "**Example**\n",
        "Duplicate values will be ignored:"
      ]
    },
    {
      "cell_type": "code",
      "execution_count": 2,
      "metadata": {
        "colab": {
          "base_uri": "https://localhost:8080/"
        },
        "id": "uGc7btyI82NA",
        "outputId": "53685950-293f-4500-b4b9-ae110ca68bfa"
      },
      "outputs": [
        {
          "output_type": "stream",
          "name": "stdout",
          "text": [
            "{'cherry', 'banana', 'apple'}\n"
          ]
        }
      ],
      "source": [
        "thisset = {\"apple\", \"banana\", \"cherry\", \"apple\"}\n",
        "\n",
        "print(thisset)"
      ]
    },
    {
      "cell_type": "markdown",
      "metadata": {
        "id": "FTcRQFwI89FY"
      },
      "source": [
        "Note: The values True and 1 are considered the same value in sets, and are treated as duplicates:\n",
        "\n",
        "**Example**\n",
        "True and 1 is considered the same value:"
      ]
    },
    {
      "cell_type": "code",
      "execution_count": 6,
      "metadata": {
        "colab": {
          "base_uri": "https://localhost:8080/"
        },
        "id": "9RuuKHN48-2D",
        "outputId": "7039b13e-9fe0-437b-868a-b25b73c79e46"
      },
      "outputs": [
        {
          "output_type": "stream",
          "name": "stdout",
          "text": [
            "{True, 2, 'banana', 'cherry', 'apple'}\n",
            "{True, 2, 'banana', 'cherry', 'apple'}\n"
          ]
        }
      ],
      "source": [
        "thisset = {\"apple\", \"banana\", \"cherry\", True, 1, 2}\n",
        "\n",
        "print(thisset)\n",
        "\n",
        "thisset = {\"apple\", \"banana\", \"cherry\", True,1+0j, 2}\n",
        "\n",
        "print(thisset)"
      ]
    },
    {
      "cell_type": "markdown",
      "metadata": {
        "id": "FwcDJW_N9DVo"
      },
      "source": [
        "**Get the Length of a Set**\n",
        "To determine how many items a set has, use the len() function.\n",
        "\n",
        "**Example**\n",
        "Get the number of items in a set:"
      ]
    },
    {
      "cell_type": "code",
      "execution_count": 7,
      "metadata": {
        "colab": {
          "base_uri": "https://localhost:8080/"
        },
        "id": "S7njUPnx9Fqo",
        "outputId": "094b83b3-3b65-462f-badb-7b936e6def5a"
      },
      "outputs": [
        {
          "output_type": "stream",
          "name": "stdout",
          "text": [
            "3\n"
          ]
        }
      ],
      "source": [
        "thisset = {\"apple\", \"banana\", \"cherry\"}\n",
        "\n",
        "print(len(thisset))"
      ]
    },
    {
      "cell_type": "markdown",
      "metadata": {
        "id": "rrMmHFW29KdA"
      },
      "source": [
        "**Set Items - Data Types**\n",
        "Set items can be of any data type:\n",
        "\n",
        "**Example**\n",
        "String, int and boolean data types:"
      ]
    },
    {
      "cell_type": "code",
      "execution_count": 8,
      "metadata": {
        "id": "5o-8jVkc9Jfw"
      },
      "outputs": [],
      "source": [
        "set1 = {\"apple\", \"banana\", \"cherry\"}\n",
        "set2 = {1, 5, 7, 9, 3}\n",
        "set3 = {True, False, False}"
      ]
    },
    {
      "cell_type": "markdown",
      "metadata": {
        "id": "EEt6lU8l9QJ3"
      },
      "source": [
        "A set can contain different data types:\n",
        "\n",
        "**Example**\n",
        "A set with strings, integers and boolean values:"
      ]
    },
    {
      "cell_type": "code",
      "execution_count": 9,
      "metadata": {
        "id": "TbM5Hc6Y9RZJ"
      },
      "outputs": [],
      "source": [
        "set1 = {\"abc\", 34, True, 40, \"male\"}"
      ]
    },
    {
      "cell_type": "markdown",
      "metadata": {
        "id": "zfrgJRfb9UsH"
      },
      "source": [
        "**type()**\n",
        "\n",
        "From Python's perspective, sets are defined as objects with the data type 'set':\n",
        "\n",
        "<class 'set'>\n",
        "**Example**\n",
        "\n",
        "What is the data type of a set?"
      ]
    },
    {
      "cell_type": "code",
      "execution_count": 10,
      "metadata": {
        "colab": {
          "base_uri": "https://localhost:8080/"
        },
        "id": "hWmwJRYj9Xah",
        "outputId": "2b661394-f540-48ab-cf0b-15e5e3e11bc4"
      },
      "outputs": [
        {
          "output_type": "stream",
          "name": "stdout",
          "text": [
            "<class 'set'>\n"
          ]
        }
      ],
      "source": [
        "myset = {\"apple\", \"banana\", \"cherry\"}\n",
        "print(type(myset))"
      ]
    },
    {
      "cell_type": "markdown",
      "metadata": {
        "id": "lZmapPg_9bZP"
      },
      "source": [
        "**The set() Constructor**\n",
        "It is also possible to use the set() constructor to make a set.\n",
        "\n",
        "**Example**\n",
        "Using the set() constructor to make a set:"
      ]
    },
    {
      "cell_type": "code",
      "execution_count": 12,
      "metadata": {
        "colab": {
          "base_uri": "https://localhost:8080/",
          "height": 236
        },
        "id": "ugf7HKx-9ecH",
        "outputId": "c65ce72c-940d-48f4-bf80-5459e029752d"
      },
      "outputs": [
        {
          "output_type": "stream",
          "name": "stdout",
          "text": [
            "{'cherry', 'banana', 'apple'}\n",
            "<class 'set'>\n"
          ]
        },
        {
          "output_type": "error",
          "ename": "TypeError",
          "evalue": "ignored",
          "traceback": [
            "\u001b[0;31m---------------------------------------------------------------------------\u001b[0m",
            "\u001b[0;31mTypeError\u001b[0m                                 Traceback (most recent call last)",
            "\u001b[0;32m<ipython-input-12-80afe17d1241>\u001b[0m in \u001b[0;36m<cell line: 5>\u001b[0;34m()\u001b[0m\n\u001b[1;32m      3\u001b[0m \u001b[0mprint\u001b[0m\u001b[0;34m(\u001b[0m\u001b[0mtype\u001b[0m\u001b[0;34m(\u001b[0m\u001b[0mthisset\u001b[0m\u001b[0;34m)\u001b[0m\u001b[0;34m)\u001b[0m\u001b[0;34m\u001b[0m\u001b[0;34m\u001b[0m\u001b[0m\n\u001b[1;32m      4\u001b[0m \u001b[0;34m\u001b[0m\u001b[0m\n\u001b[0;32m----> 5\u001b[0;31m \u001b[0mthisset\u001b[0m\u001b[0;34m[\u001b[0m\u001b[0;36m0\u001b[0m\u001b[0;34m]\u001b[0m\u001b[0;34m\u001b[0m\u001b[0;34m\u001b[0m\u001b[0m\n\u001b[0m",
            "\u001b[0;31mTypeError\u001b[0m: 'set' object is not subscriptable"
          ]
        }
      ],
      "source": [
        "thisset = set((\"apple\", \"banana\", \"cherry\")) # note the double round-brackets\n",
        "print(thisset)\n",
        "print(type(thisset))\n",
        "\n",
        "thisset[0]"
      ]
    },
    {
      "cell_type": "markdown",
      "metadata": {
        "id": "ZWu0BxBD9qwu"
      },
      "source": [
        "**Access Items**\n",
        "\n",
        "You cannot access items in a set by referring to an index or a key.\n",
        "\n",
        "But you can loop through the set items using a for loop, or ask if a specified value is present in a set, by using the in keyword."
      ]
    },
    {
      "cell_type": "markdown",
      "metadata": {
        "id": "vIT3v0hW9uED"
      },
      "source": [
        "**Example**\n",
        "\n",
        "Loop through the set, and print the values:"
      ]
    },
    {
      "cell_type": "code",
      "execution_count": 14,
      "metadata": {
        "colab": {
          "base_uri": "https://localhost:8080/"
        },
        "id": "4P4ZRwlf9x7C",
        "outputId": "2bdd7efe-f47a-4165-b1c2-ce8a7b8e154b"
      },
      "outputs": [
        {
          "output_type": "stream",
          "name": "stdout",
          "text": [
            "cherry\n",
            "banana\n",
            "apple\n"
          ]
        }
      ],
      "source": [
        "fruits = {\"apple\", \"banana\", \"cherry\"}\n",
        "\n",
        "for i in fruits:\n",
        "  print(i)"
      ]
    },
    {
      "cell_type": "markdown",
      "metadata": {
        "id": "Uv0WvriX90VU"
      },
      "source": [
        "***Example***\n",
        "Check if \"banana\" is present in the set:"
      ]
    },
    {
      "cell_type": "code",
      "execution_count": 16,
      "metadata": {
        "colab": {
          "base_uri": "https://localhost:8080/"
        },
        "id": "vDrNSNT592tq",
        "outputId": "ceaf2e99-5d88-418e-c047-0454702c7f6f"
      },
      "outputs": [
        {
          "output_type": "stream",
          "name": "stdout",
          "text": [
            "False\n"
          ]
        }
      ],
      "source": [
        "thisset = {\"apple\", \"banana\", \"cherry\"}\n",
        "\n",
        "print(\"revathi\" in thisset)"
      ]
    },
    {
      "cell_type": "markdown",
      "metadata": {
        "id": "eQXzS15V-A1h"
      },
      "source": [
        "**Change Items**\n",
        "\n",
        "Once a set is created, you cannot change its items, but you can add new items."
      ]
    },
    {
      "cell_type": "markdown",
      "metadata": {
        "id": "7_cCkGfD-QNg"
      },
      "source": [
        "To add one item to a set use the add() method.\n",
        "\n",
        "**Example**\n",
        "\n",
        "Add an item to a set, using the add() method:\n",
        "\n"
      ]
    },
    {
      "cell_type": "code",
      "execution_count": 19,
      "metadata": {
        "colab": {
          "base_uri": "https://localhost:8080/",
          "height": 219
        },
        "id": "-dtAllWn95db",
        "outputId": "7bbb5919-a97d-4af9-971d-764e76396e16"
      },
      "outputs": [
        {
          "output_type": "stream",
          "name": "stdout",
          "text": [
            "{'cherry', 'banana', 'orange', 'apple'}\n"
          ]
        },
        {
          "output_type": "error",
          "ename": "AttributeError",
          "evalue": "ignored",
          "traceback": [
            "\u001b[0;31m---------------------------------------------------------------------------\u001b[0m",
            "\u001b[0;31mAttributeError\u001b[0m                            Traceback (most recent call last)",
            "\u001b[0;32m<ipython-input-19-61cd0e3c6c92>\u001b[0m in \u001b[0;36m<cell line: 7>\u001b[0;34m()\u001b[0m\n\u001b[1;32m      5\u001b[0m \u001b[0mprint\u001b[0m\u001b[0;34m(\u001b[0m\u001b[0mthisset\u001b[0m\u001b[0;34m)\u001b[0m\u001b[0;34m\u001b[0m\u001b[0;34m\u001b[0m\u001b[0m\n\u001b[1;32m      6\u001b[0m \u001b[0;34m\u001b[0m\u001b[0m\n\u001b[0;32m----> 7\u001b[0;31m \u001b[0mthisset\u001b[0m\u001b[0;34m.\u001b[0m\u001b[0mappend\u001b[0m\u001b[0;34m(\u001b[0m\u001b[0;34m\"orange\"\u001b[0m\u001b[0;34m)\u001b[0m\u001b[0;34m\u001b[0m\u001b[0;34m\u001b[0m\u001b[0m\n\u001b[0m",
            "\u001b[0;31mAttributeError\u001b[0m: 'set' object has no attribute 'append'"
          ]
        }
      ],
      "source": [
        "thisset = {\"apple\", \"banana\", \"cherry\"}\n",
        "\n",
        "thisset.add(\"orange\")\n",
        "\n",
        "print(thisset)\n",
        "\n",
        "thisset.append(\"orange\") # append will throw an error"
      ]
    },
    {
      "cell_type": "markdown",
      "metadata": {
        "id": "s5c3IZu--jbw"
      },
      "source": [
        "**Add Sets**\n",
        "To add items from another set into the current set, use the update() method.\n",
        "\n",
        "**Example**\n",
        "Add elements from tropical into thisset:"
      ]
    },
    {
      "cell_type": "code",
      "execution_count": 21,
      "metadata": {
        "colab": {
          "base_uri": "https://localhost:8080/"
        },
        "id": "fMakbbq0-mw5",
        "outputId": "e7d308a4-d321-4ec5-8f92-fd19edd50422"
      },
      "outputs": [
        {
          "output_type": "stream",
          "name": "stdout",
          "text": [
            "{'pineapple', 'mango', 'banana', 'papaya', 'cherry', 'apple'}\n"
          ]
        }
      ],
      "source": [
        "thisset = {\"apple\", \"banana\", \"cherry\"}\n",
        "tropical = {\"pineapple\", \"mango\", \"papaya\"}\n",
        "\n",
        "thisset.update(tropical)\n",
        "\n",
        "print(thisset)\n",
        "#new_list= thisset+tropical   # conatenation opertaor wont work \n",
        "#print(new_list)\n",
        "\n"
      ]
    },
    {
      "cell_type": "markdown",
      "metadata": {
        "id": "O0JR1UH0-47B"
      },
      "source": [
        "**Add Any Iterable**\n",
        "\n",
        "The object in the update() method does not have to be a set, it can be any iterable object (tuples, lists, dictionaries etc.).\n",
        "\n",
        "**Example**\n",
        "\n",
        "Add elements of a list to at set:"
      ]
    },
    {
      "cell_type": "code",
      "execution_count": 25,
      "metadata": {
        "colab": {
          "base_uri": "https://localhost:8080/"
        },
        "id": "RFwXZ32w-9cw",
        "outputId": "8c313839-175e-4d76-a776-d6926299ce52"
      },
      "outputs": [
        {
          "output_type": "stream",
          "name": "stdout",
          "text": [
            "{'kiwi', 'banana', 'orange', 'cherry', 'apple'}\n",
            "{'kiwi', 'banana', 'revathi', 'orange', 'ramya', 'cherry', 'apple'}\n"
          ]
        }
      ],
      "source": [
        "thisset = {\"apple\", \"banana\", \"cherry\"}\n",
        "mylist = [\"kiwi\", \"orange\"]\n",
        "\n",
        "thisset.update(mylist)\n",
        "\n",
        "print(thisset)\n",
        "\n",
        "\n",
        "mytuple = (\"ramya\", \"revathi\")\n",
        "thisset.update(mytuple)\n",
        "\n",
        "print(thisset)"
      ]
    },
    {
      "cell_type": "markdown",
      "metadata": {
        "id": "eEYAo2UU_BRY"
      },
      "source": [
        "**Remove Item**\n",
        "\n",
        "To remove an item in a set, use the remove(), or the discard() method.\n",
        "\n",
        "**Example**\n",
        "\n",
        "Remove \"banana\" by using the remove() method:"
      ]
    },
    {
      "cell_type": "code",
      "execution_count": 27,
      "metadata": {
        "colab": {
          "base_uri": "https://localhost:8080/",
          "height": 219
        },
        "id": "r-U-qXl8_Hyv",
        "outputId": "da041ca0-c7c1-47f1-d96c-46506725b76f"
      },
      "outputs": [
        {
          "output_type": "stream",
          "name": "stdout",
          "text": [
            "{'cherry', 'apple'}\n"
          ]
        },
        {
          "output_type": "error",
          "ename": "KeyError",
          "evalue": "ignored",
          "traceback": [
            "\u001b[0;31m---------------------------------------------------------------------------\u001b[0m",
            "\u001b[0;31mKeyError\u001b[0m                                  Traceback (most recent call last)",
            "\u001b[0;32m<ipython-input-27-b19618dd9791>\u001b[0m in \u001b[0;36m<cell line: 6>\u001b[0;34m()\u001b[0m\n\u001b[1;32m      4\u001b[0m \u001b[0;34m\u001b[0m\u001b[0m\n\u001b[1;32m      5\u001b[0m \u001b[0mprint\u001b[0m\u001b[0;34m(\u001b[0m\u001b[0mthisset\u001b[0m\u001b[0;34m)\u001b[0m\u001b[0;34m\u001b[0m\u001b[0;34m\u001b[0m\u001b[0m\n\u001b[0;32m----> 6\u001b[0;31m \u001b[0mthisset\u001b[0m\u001b[0;34m.\u001b[0m\u001b[0mremove\u001b[0m\u001b[0;34m(\u001b[0m\u001b[0;34m\"mango\"\u001b[0m\u001b[0;34m)\u001b[0m\u001b[0;34m\u001b[0m\u001b[0;34m\u001b[0m\u001b[0m\n\u001b[0m",
            "\u001b[0;31mKeyError\u001b[0m: 'mango'"
          ]
        }
      ],
      "source": [
        "thisset = {\"apple\", \"banana\", \"cherry\"}\n",
        "\n",
        "thisset.remove(\"banana\")\n",
        "\n",
        "print(thisset)\n",
        "thisset.remove(\"mango\")"
      ]
    },
    {
      "cell_type": "markdown",
      "metadata": {
        "id": "rlQVJKwk_Olt"
      },
      "source": [
        "Note: If the item to remove does not exist, remove() will raise an error.\n",
        "\n",
        "**Example**\n",
        "\n",
        "Remove \"banana\" by using the discard() method:"
      ]
    },
    {
      "cell_type": "code",
      "execution_count": 29,
      "metadata": {
        "colab": {
          "base_uri": "https://localhost:8080/"
        },
        "id": "SD_fTZsY_MGF",
        "outputId": "f2f43442-3e4d-4ae8-eb1b-c924132b3a19"
      },
      "outputs": [
        {
          "output_type": "stream",
          "name": "stdout",
          "text": [
            "{'cherry', 'apple'}\n"
          ]
        }
      ],
      "source": [
        "thisset = {\"apple\", \"banana\", \"cherry\"}\n",
        "\n",
        "thisset.discard(\"banana\")\n",
        "\n",
        "print(thisset)\n",
        "thisset.discard(\"mango\")\n"
      ]
    },
    {
      "cell_type": "markdown",
      "metadata": {
        "id": "8wc9taj9_WbQ"
      },
      "source": [
        "**Note: If the item to remove does not exist, discard() will NOT raise an error.**\n",
        "\n",
        "You can also use the pop() method to remove an item, but this method will remove a random item, so you cannot be sure what item that gets removed.\n",
        "\n",
        "The return value of the pop() method is the removed item."
      ]
    },
    {
      "cell_type": "markdown",
      "metadata": {
        "id": "Op5tqP2k_ZZn"
      },
      "source": [
        "Example\n",
        "\n",
        "Remove a random item by using the pop() method:"
      ]
    },
    {
      "cell_type": "code",
      "execution_count": 30,
      "metadata": {
        "colab": {
          "base_uri": "https://localhost:8080/"
        },
        "id": "9t6IQckP_VUX",
        "outputId": "8427d04c-ff10-4974-9436-2e9cdf727626"
      },
      "outputs": [
        {
          "output_type": "stream",
          "name": "stdout",
          "text": [
            "cherry\n",
            "{'banana', 'apple'}\n"
          ]
        }
      ],
      "source": [
        "thisset = {\"apple\", \"banana\", \"cherry\"}\n",
        "\n",
        "x = thisset.pop()\n",
        "\n",
        "print(x)\n",
        "print(thisset)"
      ]
    },
    {
      "cell_type": "markdown",
      "metadata": {
        "id": "z_mkR_xg_eKA"
      },
      "source": [
        "Note: Sets are unordered, so when using the pop() method, you do not know which item that gets removed.\n",
        "\n",
        "**Example**\n",
        "The clear() method empties the set:"
      ]
    },
    {
      "cell_type": "code",
      "execution_count": 32,
      "metadata": {
        "colab": {
          "base_uri": "https://localhost:8080/"
        },
        "id": "B2YZeAOn_g-n",
        "outputId": "8ee3fe21-def5-4f2b-8b84-ab6c802e2726"
      },
      "outputs": [
        {
          "output_type": "stream",
          "name": "stdout",
          "text": [
            "set()\n"
          ]
        }
      ],
      "source": [
        "thisset = {\"apple\", \"banana\", \"cherry\"}\n",
        "\n",
        "thisset.clear()\n",
        "\n",
        "print(thisset)"
      ]
    },
    {
      "cell_type": "markdown",
      "metadata": {
        "id": "0QP3wMyv_mu-"
      },
      "source": [
        "**Example**\n",
        "\n",
        "The del keyword will delete the set completely:"
      ]
    },
    {
      "cell_type": "code",
      "execution_count": null,
      "metadata": {
        "colab": {
          "base_uri": "https://localhost:8080/",
          "height": 217
        },
        "id": "gdIk2qv4_ows",
        "outputId": "47ec9c07-98d6-4b2c-df7b-cf1a16d84f12"
      },
      "outputs": [
        {
          "name": "stdout",
          "output_type": "stream",
          "text": [
            "{'banana', 'apple', 'cherry'}\n"
          ]
        },
        {
          "ename": "NameError",
          "evalue": "ignored",
          "output_type": "error",
          "traceback": [
            "\u001b[0;31m---------------------------------------------------------------------------\u001b[0m",
            "\u001b[0;31mNameError\u001b[0m                                 Traceback (most recent call last)",
            "\u001b[0;32m<ipython-input-70-252c7605e324>\u001b[0m in \u001b[0;36m<module>\u001b[0;34m\u001b[0m\n\u001b[1;32m      6\u001b[0m \u001b[0mprint\u001b[0m\u001b[0;34m(\u001b[0m\u001b[0mthisset1\u001b[0m\u001b[0;34m)\u001b[0m\u001b[0;34m\u001b[0m\u001b[0;34m\u001b[0m\u001b[0m\n\u001b[1;32m      7\u001b[0m \u001b[0;34m\u001b[0m\u001b[0m\n\u001b[0;32m----> 8\u001b[0;31m \u001b[0mprint\u001b[0m\u001b[0;34m(\u001b[0m\u001b[0mthisset\u001b[0m\u001b[0;34m)\u001b[0m\u001b[0;34m\u001b[0m\u001b[0;34m\u001b[0m\u001b[0m\n\u001b[0m",
            "\u001b[0;31mNameError\u001b[0m: name 'thisset' is not defined"
          ]
        }
      ],
      "source": [
        "thisset = {\"apple\", \"banana\", \"cherry\"}\n",
        "\n",
        "del thisset\n",
        "\n",
        "thisset1 = {\"apple\", \"banana\", \"cherry\"}\n",
        "print(thisset1)\n",
        "\n",
        "print(thisset)"
      ]
    },
    {
      "cell_type": "markdown",
      "metadata": {
        "id": "T7DjMApN_5pH"
      },
      "source": [
        "**Join Two Sets**\n",
        "\n",
        "There are several ways to join two or more sets in Python.\n",
        "\n",
        "You can use the union() method that returns a new set containing all items from both sets, or the update() method that inserts all the items from one set into another:\n",
        "\n",
        "**Example**\n",
        "\n",
        "The union() method returns a new set with all items from both sets:"
      ]
    },
    {
      "cell_type": "code",
      "execution_count": 33,
      "metadata": {
        "colab": {
          "base_uri": "https://localhost:8080/"
        },
        "id": "HkvwjN7o_9yK",
        "outputId": "d98f7388-48bb-4a64-dc56-060b60af1091"
      },
      "outputs": [
        {
          "output_type": "stream",
          "name": "stdout",
          "text": [
            "{1, 2, 3, 'a', 'c', 'b'}\n"
          ]
        }
      ],
      "source": [
        "set1 = {\"a\", \"b\" , \"c\"}\n",
        "set2 = {1, 2, 3,\"b\"}\n",
        "\n",
        "set3 = set1.union(set2)\n",
        "print(set3)"
      ]
    },
    {
      "cell_type": "markdown",
      "metadata": {
        "id": "BXngl_DEAChA"
      },
      "source": [
        "**Example**\n",
        "\n",
        "The update() method inserts the items in set2 into set1:"
      ]
    },
    {
      "cell_type": "code",
      "execution_count": 34,
      "metadata": {
        "colab": {
          "base_uri": "https://localhost:8080/"
        },
        "id": "CZUSDWLyAFkX",
        "outputId": "904eef37-436b-4f61-80c0-7f75734966ea"
      },
      "outputs": [
        {
          "output_type": "stream",
          "name": "stdout",
          "text": [
            "{1, 2, 3, 'a', 'c', 'b'}\n"
          ]
        }
      ],
      "source": [
        "set1 = {\"a\", \"b\" , \"c\"}\n",
        "set2 = {1, 2, 3}\n",
        "\n",
        "set1.update(set2)\n",
        "print(set1)"
      ]
    },
    {
      "cell_type": "markdown",
      "metadata": {
        "id": "mJ3jeMt_AIs3"
      },
      "source": [
        "**Note: Both union() and update() will exclude any duplicate items.**"
      ]
    },
    {
      "cell_type": "markdown",
      "metadata": {
        "id": "d3nz7iWOAMJH"
      },
      "source": [
        "**Keep ONLY the Duplicates**\n",
        "\n",
        "The intersection_update() method will keep only the items that are present in both sets.\n",
        "\n",
        "**Example**\n",
        "\n",
        "Keep the items that exist in both set x, and set y:"
      ]
    },
    {
      "cell_type": "markdown",
      "source": [
        "The intersection_update() method updates the set by keeping only common elements found in either set. \n",
        "\n",
        "If you don't want to update the original set, use intersection() method."
      ],
      "metadata": {
        "id": "19h9XT8V4YDl"
      }
    },
    {
      "cell_type": "code",
      "execution_count": 49,
      "metadata": {
        "colab": {
          "base_uri": "https://localhost:8080/"
        },
        "id": "3zgtm4IcAG9H",
        "outputId": "341efc66-dd91-47ad-c4a9-64fc9157a84b"
      },
      "outputs": [
        {
          "output_type": "stream",
          "name": "stdout",
          "text": [
            "{'cherry', 'banana'}\n",
            "None\n"
          ]
        }
      ],
      "source": [
        "x = {\"apple\", \"banana\", \"cherry\"}\n",
        "y = {\"google\", \"microsoft\",\"cherry\",\"banana\"}\n",
        "\n",
        "x.intersection_update(y)\n",
        "z=x.intersection_update(y)\n",
        "print(x)\n",
        "print(z)"
      ]
    },
    {
      "cell_type": "markdown",
      "metadata": {
        "id": "BkUjAhIiATnp"
      },
      "source": [
        "The intersection() method will return a new set, that only contains the items that are present in both sets.\n",
        "\n",
        "**Example**\n",
        "Return a set that contains the items that exist in both set x, and set y:"
      ]
    },
    {
      "cell_type": "code",
      "execution_count": 50,
      "metadata": {
        "colab": {
          "base_uri": "https://localhost:8080/"
        },
        "id": "rKvzIhmqAVKH",
        "outputId": "5dfe9ad0-e4c7-4cfd-f98e-90a769571a8c"
      },
      "outputs": [
        {
          "output_type": "stream",
          "name": "stdout",
          "text": [
            "{'cherry', 'banana', 'apple'}\n",
            "{'cherry', 'banana'}\n"
          ]
        }
      ],
      "source": [
        "x = {\"apple\", \"banana\", \"cherry\"}\n",
        "y = {\"google\", \"microsoft\",\"cherry\",\"banana\"}\n",
        "\n",
        "z = x.intersection(y)\n",
        "\n",
        "print(x)\n",
        "print(z)"
      ]
    },
    {
      "cell_type": "markdown",
      "source": [
        "The symmetric_difference_update() method updates the set by keeping only elements found in either set, but not in both. If you don't want to update the original set, use symmetric_difference() method.\n",
        "\n"
      ],
      "metadata": {
        "id": "2s35NRxv3_fN"
      }
    },
    {
      "cell_type": "markdown",
      "metadata": {
        "id": "TPsLSxjKAZk5"
      },
      "source": [
        "**Keep All, But NOT the Duplicates**\n",
        "The symmetric_difference_update() method will keep only the elements that are NOT present in both sets.\n",
        "\n",
        "**Example**\n",
        "Keep the items that are not present in both sets:"
      ]
    },
    {
      "cell_type": "code",
      "execution_count": 47,
      "metadata": {
        "colab": {
          "base_uri": "https://localhost:8080/"
        },
        "id": "5e7py4rtAXip",
        "outputId": "b3d8dc40-65ad-4482-fbc9-8c63da546891"
      },
      "outputs": [
        {
          "output_type": "stream",
          "name": "stdout",
          "text": [
            "{'banana', 'google', 'cherry', 'microsoft'}\n",
            "None\n"
          ]
        }
      ],
      "source": [
        "x = {\"apple\", \"banana\", \"cherry\"}\n",
        "y = {\"google\", \"microsoft\", \"apple\"}\n",
        "\n",
        "z= x.symmetric_difference_update(y)\n",
        "\n",
        "print(x)\n",
        "print(z)"
      ]
    },
    {
      "cell_type": "markdown",
      "metadata": {
        "id": "y4tO0K09Ah3v"
      },
      "source": [
        "**Example**\n",
        "\n",
        "Return a set that contains all items from both sets, except items that are present in both:"
      ]
    },
    {
      "cell_type": "code",
      "execution_count": 48,
      "metadata": {
        "colab": {
          "base_uri": "https://localhost:8080/"
        },
        "id": "J4PjiX1bAq3A",
        "outputId": "bab51510-43b3-4a86-b43c-16aeb698ddb4"
      },
      "outputs": [
        {
          "output_type": "stream",
          "name": "stdout",
          "text": [
            "{'cherry', 'banana', 'apple'}\n",
            "{'banana', 'google', 'microsoft'}\n"
          ]
        }
      ],
      "source": [
        "x = {\"apple\", \"banana\", \"cherry\"}\n",
        "y = {\"google\", \"microsoft\", \"apple\",\"cherry\"}\n",
        "\n",
        "z = x.symmetric_difference(y)\n",
        "\n",
        "print(x)\n",
        "print(z)"
      ]
    },
    {
      "cell_type": "markdown",
      "metadata": {
        "id": "YVP7Ng16AtN3"
      },
      "source": [
        "Note: The values True and 1 are considered the same value in sets, and are treated as duplicates:\n",
        "\n",
        "**Example**\n",
        "True and 1 is considered the same value:"
      ]
    },
    {
      "cell_type": "code",
      "execution_count": 45,
      "metadata": {
        "colab": {
          "base_uri": "https://localhost:8080/"
        },
        "id": "V24pvmo-AxwA",
        "outputId": "9abeeceb-b642-4bda-f246-110e8d733eee"
      },
      "outputs": [
        {
          "output_type": "stream",
          "name": "stdout",
          "text": [
            "{2, 'banana', 'google', 'cherry'}\n"
          ]
        }
      ],
      "source": [
        "x = {\"apple\", \"banana\", \"cherry\", True}\n",
        "y = {\"google\", 1, \"apple\", 2}\n",
        "\n",
        "z = y.symmetric_difference(x)\n",
        "print(z)"
      ]
    },
    {
      "cell_type": "markdown",
      "metadata": {
        "id": "3kBvvH3ZA1tx"
      },
      "source": [
        "**Python - Set Methods**"
      ]
    },
    {
      "cell_type": "markdown",
      "metadata": {
        "id": "zYIGIyApA6P3"
      },
      "source": [
        "Python has a set of built-in methods that you can use on sets.\n",
        "\n",
        "**Method\tDescription**\n",
        "\n",
        "add()\tAdds an element to the set\n",
        "\n",
        "clear()\tRemoves all the elements from the set\n",
        "\n",
        "copy()\tReturns a copy of the set\n",
        "\n",
        "difference()\tReturns a set containing the difference between two or more sets\n",
        "\n",
        "difference_update()\tRemoves the items in this set that are also included in another, specified set\n",
        "\n",
        "discard()\tRemove the specified item\n",
        "\n",
        "intersection()\tReturns a set, that is the intersection of two other sets\n",
        "\n",
        "intersection_update()\tRemoves the items in this set that are not present in other, specified set(s)\n",
        "\n",
        "isdisjoint()\tReturns whether two sets have a intersection or not\n",
        "\n",
        "issubset()\tReturns whether another set contains this set or not\n",
        "\n",
        "issuperset()\tReturns whether this set contains another set or not\n",
        "\n",
        "pop()\tRemoves an element from the set\n",
        "\n",
        "remove()\tRemoves the specified element\n",
        "\n",
        "symmetric_difference()\tReturns a set with the symmetric differences of two sets\n",
        "\n",
        "symmetric_difference_update()\tinserts the symmetric differences from this set and another\n",
        "\n",
        "union()\tReturn a set containing the union of sets\n",
        "\n",
        "update()\tUpdate the set with the union of this set and others"
      ]
    }
  ],
  "metadata": {
    "colab": {
      "provenance": []
    },
    "kernelspec": {
      "display_name": "Python 3 (ipykernel)",
      "language": "python",
      "name": "python3"
    },
    "language_info": {
      "codemirror_mode": {
        "name": "ipython",
        "version": 3
      },
      "file_extension": ".py",
      "mimetype": "text/x-python",
      "name": "python",
      "nbconvert_exporter": "python",
      "pygments_lexer": "ipython3",
      "version": "3.10.9"
    }
  },
  "nbformat": 4,
  "nbformat_minor": 0
}
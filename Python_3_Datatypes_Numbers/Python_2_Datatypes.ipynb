{
  "nbformat": 4,
  "nbformat_minor": 0,
  "metadata": {
    "colab": {
      "provenance": []
    },
    "kernelspec": {
      "name": "python3",
      "display_name": "Python 3"
    },
    "language_info": {
      "name": "python"
    }
  },
  "cells": [
    {
      "cell_type": "markdown",
      "source": [
        "**Built-in Data Types**"
      ],
      "metadata": {
        "id": "_A3itctTkNxL"
      }
    },
    {
      "cell_type": "markdown",
      "source": [
        "Variables can store data of different types, and different types can do different things.\n",
        "\n",
        "Python has the following data types built-in by default, in these categories:\n",
        "\n",
        "Text Type:\tstr\n",
        "\n",
        "Numeric Types:\tint, float, complex\n",
        "\n",
        "Sequence Types:\tlist, tuple, range\n",
        "\n",
        "Mapping Type:\tdict\n",
        "\n",
        "Set Types:\tset, frozenset\n",
        "\n",
        "Boolean Type:\tbool\n",
        "\n",
        "Binary Types:\tbytes, bytearray, memoryview\n",
        "\n",
        "None Type:\tNoneType"
      ],
      "metadata": {
        "id": "-MduxKpikTyX"
      }
    },
    {
      "cell_type": "markdown",
      "source": [
        "**Getting the Data Type**\n",
        "\n",
        "You can get the data type of any object by using the type() function:"
      ],
      "metadata": {
        "id": "9nNhv8idkpH3"
      }
    },
    {
      "cell_type": "code",
      "execution_count": null,
      "metadata": {
        "colab": {
          "base_uri": "https://localhost:8080/"
        },
        "id": "Pew8hdrEhsTa",
        "outputId": "cefad7f7-940e-42fc-d707-fdb6dc1f04af"
      },
      "outputs": [
        {
          "output_type": "stream",
          "name": "stdout",
          "text": [
            "<class 'int'>\n"
          ]
        }
      ],
      "source": [
        "x = 5\n",
        "print(type(x))"
      ]
    },
    {
      "cell_type": "code",
      "source": [
        "x1 = \"Hello World\"  #str\n",
        "x2 = 20  #int\n",
        "x3 = 20.5\t#float\t\n",
        "x4 = 1j\t#complex\t\n",
        "x5 = [\"apple\", \"banana\", \"cherry\"]\t#list\t\n",
        "x6 = (\"apple\", \"banana\", \"cherry\")\t#tuple\t\t\n",
        "x8 = {\"name\" : \"John\", \"age\" : 36}\t#dict\t\n",
        "x9 = {\"apple\", \"banana\", \"cherry\"}\t#set\t\n",
        "x11 = True\t#bool\t\n",
        "x12 = b\"Hello\"  #\tbytes\t\n",
        "x13 = bytearray(5)\t#bytearray\t\n",
        "x14 = memoryview(bytes(5))\t#memoryview\t\n",
        "x15 = None\n",
        "\n",
        "print(x1,x2,x3,x4,x5,x6,x8,x9,x11,x12,x13,x14,x15)"
      ],
      "metadata": {
        "colab": {
          "base_uri": "https://localhost:8080/"
        },
        "id": "PG8yxrU7lXDv",
        "outputId": "1a509203-6164-48b1-a004-2a7fc54e31e4"
      },
      "execution_count": null,
      "outputs": [
        {
          "output_type": "stream",
          "name": "stdout",
          "text": [
            "Hello World 20 20.5 1j ['apple', 'banana', 'cherry'] ('apple', 'banana', 'cherry') {'name': 'John', 'age': 36} {'banana', 'cherry', 'apple'} True b'Hello' bytearray(b'\\x00\\x00\\x00\\x00\\x00') <memory at 0x7f9af9b01f40> None\n"
          ]
        }
      ]
    },
    {
      "cell_type": "markdown",
      "source": [
        "**Setting the Specific Data Type**\n",
        "If you want to specify the data type, you can use the following constructor functions:"
      ],
      "metadata": {
        "id": "rIAnqoaSnvk4"
      }
    },
    {
      "cell_type": "code",
      "source": [
        "x = str(\"Hello World\")\t#str\t\n",
        "x = int(20)\t#int\t\n",
        "x = float(20.5)\t#float\t\n",
        "x = complex(1j)\t#complex\t\n",
        "x = list((\"apple\", \"banana\", \"cherry\"))\t#list\t\n",
        "x = tuple((\"apple\", \"banana\", \"cherry\")) #tuple\n",
        "x = dict(name=\"John\", age=36)\t#dict\t\n",
        "x = set((\"apple\", \"banana\", \"cherry\")) #set"
      ],
      "metadata": {
        "id": "2b7LWPBvnwEQ"
      },
      "execution_count": null,
      "outputs": []
    },
    {
      "cell_type": "markdown",
      "source": [
        "**Python Numbers**\n",
        "\n",
        "There are three numeric types in Python:\n",
        "\n",
        "int\n",
        "float\n",
        "complex\n",
        "Variables of numeric types are created when you assign a value to them:"
      ],
      "metadata": {
        "id": "z2CbKksXoVHP"
      }
    },
    {
      "cell_type": "code",
      "source": [
        "x = 1    # int\n",
        "y = 2.8  # float\n",
        "z = 1j   # complex\n",
        "\n",
        "print(type(x))\n",
        "print(type(y))\n",
        "print(type(z))"
      ],
      "metadata": {
        "colab": {
          "base_uri": "https://localhost:8080/"
        },
        "id": "FwYSDAFkoivy",
        "outputId": "fb9f95d0-507f-456f-d16c-262a7a40d70c"
      },
      "execution_count": null,
      "outputs": [
        {
          "output_type": "stream",
          "name": "stdout",
          "text": [
            "<class 'int'>\n",
            "<class 'float'>\n",
            "<class 'complex'>\n"
          ]
        }
      ]
    },
    {
      "cell_type": "markdown",
      "source": [
        "**Int:**\n",
        "\n",
        "Int, or integer, is a whole number, positive or negative, without decimals, of unlimited length."
      ],
      "metadata": {
        "id": "FWPOZsbYoqbf"
      }
    },
    {
      "cell_type": "code",
      "source": [
        "x = 1\n",
        "y = 35656222554887711\n",
        "z = -3255522\n",
        "\n",
        "print(type(x))\n",
        "print(type(y))\n",
        "print(type(z))"
      ],
      "metadata": {
        "colab": {
          "base_uri": "https://localhost:8080/"
        },
        "id": "wPmAIQGZovqf",
        "outputId": "7f9b116d-c71a-4d50-8286-570a78fffc8e"
      },
      "execution_count": null,
      "outputs": [
        {
          "output_type": "stream",
          "name": "stdout",
          "text": [
            "<class 'int'>\n",
            "<class 'int'>\n",
            "<class 'int'>\n"
          ]
        }
      ]
    },
    {
      "cell_type": "markdown",
      "source": [
        "**Float**\n",
        "\n",
        "Float, or \"floating point number\" is a number, positive or negative, containing one or more decimals."
      ],
      "metadata": {
        "id": "hoU_k0fKpJa3"
      }
    },
    {
      "cell_type": "code",
      "source": [
        "x = 1.10\n",
        "y = 1.0\n",
        "z = -35.59\n",
        "\n",
        "print(type(x))\n",
        "print(type(y))\n",
        "print(type(z))"
      ],
      "metadata": {
        "colab": {
          "base_uri": "https://localhost:8080/"
        },
        "id": "Trtlav_UpMvR",
        "outputId": "641daabc-f509-42a5-abe6-b2ff93fa478e"
      },
      "execution_count": null,
      "outputs": [
        {
          "output_type": "stream",
          "name": "stdout",
          "text": [
            "<class 'float'>\n",
            "<class 'float'>\n",
            "<class 'float'>\n"
          ]
        }
      ]
    },
    {
      "cell_type": "markdown",
      "source": [
        "Float can also be scientific numbers with an \"e\" to indicate the power of 10."
      ],
      "metadata": {
        "id": "exjrpBLspTy4"
      }
    },
    {
      "cell_type": "code",
      "source": [
        "x = 35e3\n",
        "y = 12E4\n",
        "z = -87.7e100\n",
        "\n",
        "print(type(x))\n",
        "print(type(y))\n",
        "print(type(z))"
      ],
      "metadata": {
        "colab": {
          "base_uri": "https://localhost:8080/"
        },
        "id": "Hkf_wYX7pVev",
        "outputId": "dd7dfd59-7f88-4804-bc09-0ad8d7bf1e79"
      },
      "execution_count": null,
      "outputs": [
        {
          "output_type": "stream",
          "name": "stdout",
          "text": [
            "<class 'float'>\n",
            "<class 'float'>\n",
            "<class 'float'>\n"
          ]
        }
      ]
    },
    {
      "cell_type": "markdown",
      "source": [
        "**Complex**\n",
        "\n",
        "Complex numbers are written with a \"j\" as the imaginary part:"
      ],
      "metadata": {
        "id": "Rn3s1zOEpuzP"
      }
    },
    {
      "cell_type": "code",
      "source": [
        "x = 3+5j\n",
        "y = 5j\n",
        "z = -5j\n",
        "\n",
        "print(type(x))\n",
        "print(type(y))\n",
        "print(type(z))"
      ],
      "metadata": {
        "colab": {
          "base_uri": "https://localhost:8080/"
        },
        "id": "Cbdhc2_Ppxxf",
        "outputId": "f89d095f-c110-46d1-c53e-d7b699e8d417"
      },
      "execution_count": null,
      "outputs": [
        {
          "output_type": "stream",
          "name": "stdout",
          "text": [
            "<class 'complex'>\n",
            "<class 'complex'>\n",
            "<class 'complex'>\n"
          ]
        }
      ]
    },
    {
      "cell_type": "markdown",
      "source": [
        "**Type Conversion**\n",
        "\n",
        "You can convert from one type to another with the int(), float(), and complex() methods:"
      ],
      "metadata": {
        "id": "skTMflmkp15L"
      }
    },
    {
      "cell_type": "code",
      "source": [
        "x = 1    # int\n",
        "y = 2.8  # float\n",
        "z = 1j   # complex\n",
        "\n",
        "#convert from int to float:\n",
        "a = float(x)\n",
        "\n",
        "#convert from float to int:\n",
        "b = int(y)\n",
        "\n",
        "#convert from int to complex:\n",
        "c = complex(x)\n",
        "\n",
        "print(a)\n",
        "print(b)\n",
        "print(c)\n",
        "\n",
        "print(type(a))\n",
        "print(type(b))\n",
        "print(type(c))"
      ],
      "metadata": {
        "colab": {
          "base_uri": "https://localhost:8080/"
        },
        "id": "v1oyF5Kkp1af",
        "outputId": "3238cfb2-25f3-4441-db12-20b8f65646eb"
      },
      "execution_count": null,
      "outputs": [
        {
          "output_type": "stream",
          "name": "stdout",
          "text": [
            "1.0\n",
            "2\n",
            "(1+0j)\n",
            "<class 'float'>\n",
            "<class 'int'>\n",
            "<class 'complex'>\n"
          ]
        }
      ]
    },
    {
      "cell_type": "markdown",
      "source": [
        "**Note: You cannot convert complex numbers into another number type.**"
      ],
      "metadata": {
        "id": "Z36-Ku9wqBSG"
      }
    },
    {
      "cell_type": "markdown",
      "source": [
        "**Random Number**"
      ],
      "metadata": {
        "id": "dagk8JbsqH70"
      }
    },
    {
      "cell_type": "markdown",
      "source": [
        "Python does not have a random() function to make a random number, but Python has a built-in module called random that can be used to make random numbers:"
      ],
      "metadata": {
        "id": "5Ej_7-UCqLyB"
      }
    },
    {
      "cell_type": "code",
      "source": [
        "import random\n",
        "\n",
        "print(random.randrange(1, 10))"
      ],
      "metadata": {
        "colab": {
          "base_uri": "https://localhost:8080/"
        },
        "id": "PwVvz9eDqA1E",
        "outputId": "1315fcf5-69b2-410d-f778-34be1c4e089b"
      },
      "execution_count": null,
      "outputs": [
        {
          "output_type": "stream",
          "name": "stdout",
          "text": [
            "3\n"
          ]
        }
      ]
    },
    {
      "cell_type": "markdown",
      "source": [
        "**Casting:**\n",
        "\n",
        "Casting in python uses inbuilt functions:\n",
        "\n",
        "int() - constructs an integer number from an integer literal, a float literal (by removing all decimals), or a string literal (providing the string represents a whole number)\n",
        "\n",
        "float() - constructs a float number from an integer literal, a float literal or a string literal (providing the string represents a float or an integer)\n",
        "\n",
        "str() - constructs a string from a wide variety of data types, including strings, integer literals and float literals"
      ],
      "metadata": {
        "id": "72_SglPqAWnz"
      }
    },
    {
      "cell_type": "markdown",
      "source": [
        "**Integers:**"
      ],
      "metadata": {
        "id": "Ck67medaArYc"
      }
    },
    {
      "cell_type": "code",
      "source": [
        "x = int(1)   # x will be 1\n",
        "y = int(2.8) # y will be 2\n",
        "z = int(\"3\") # z will be 3\n",
        "\n",
        "print(x)\n",
        "print(y)\n",
        "print(z)\n",
        "\n",
        "print(type(z))"
      ],
      "metadata": {
        "colab": {
          "base_uri": "https://localhost:8080/"
        },
        "id": "AppxyDQuAWO1",
        "outputId": "ba1d3fc1-e1ec-4bff-8509-848b0bc8aadd"
      },
      "execution_count": 1,
      "outputs": [
        {
          "output_type": "stream",
          "name": "stdout",
          "text": [
            "1\n",
            "2\n",
            "3\n",
            "<class 'int'>\n"
          ]
        }
      ]
    },
    {
      "cell_type": "markdown",
      "source": [
        "**Floats:**"
      ],
      "metadata": {
        "id": "E1m7rHGfCIQ6"
      }
    },
    {
      "cell_type": "code",
      "source": [
        "x = float(1)     # x will be 1.0\n",
        "y = float(2.8)   # y will be 2.8\n",
        "z = float(\"3\")   # z will be 3.0\n",
        "w = float(\"4.2\") # w will be 4.2\n",
        "test = \"4.2\"\n",
        "\n",
        "print(x)\n",
        "print(y)\n",
        "print(z)\n",
        "print(w)\n",
        "\n",
        "print(type(test))\n",
        "print(type(w))"
      ],
      "metadata": {
        "colab": {
          "base_uri": "https://localhost:8080/"
        },
        "id": "eGm_TqcACMpH",
        "outputId": "f96b6bf5-3dc9-4f39-da75-a6186e8491a7"
      },
      "execution_count": 2,
      "outputs": [
        {
          "output_type": "stream",
          "name": "stdout",
          "text": [
            "1.0\n",
            "2.8\n",
            "3.0\n",
            "4.2\n",
            "<class 'str'>\n",
            "<class 'float'>\n"
          ]
        }
      ]
    },
    {
      "cell_type": "markdown",
      "source": [
        "Strings :"
      ],
      "metadata": {
        "id": "ZMhJ3aN7ChTm"
      }
    },
    {
      "cell_type": "code",
      "source": [
        "x = str(\"sample\") # x will be 'sample'\n",
        "y = str(2)    # y will be '2'\n",
        "z = str(3.0)  # z will be '3.0'\n",
        "\n",
        "\n",
        "print(x)\n",
        "print(y)\n",
        "print(z)\n",
        "\n",
        "print(type(x))\n",
        "print(type(y))\n",
        "print(type(z))"
      ],
      "metadata": {
        "colab": {
          "base_uri": "https://localhost:8080/"
        },
        "id": "j8RS_OJIClJf",
        "outputId": "218b12ab-0566-4cc1-a891-e69a17d181a2"
      },
      "execution_count": 3,
      "outputs": [
        {
          "output_type": "stream",
          "name": "stdout",
          "text": [
            "sample\n",
            "2\n",
            "3.0\n",
            "<class 'str'>\n",
            "<class 'str'>\n",
            "<class 'str'>\n"
          ]
        }
      ]
    }
  ]
}
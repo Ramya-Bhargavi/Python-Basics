{
  "nbformat": 4,
  "nbformat_minor": 0,
  "metadata": {
    "colab": {
      "provenance": []
    },
    "kernelspec": {
      "name": "python3",
      "display_name": "Python 3"
    },
    "language_info": {
      "name": "python"
    }
  },
  "cells": [
    {
      "cell_type": "markdown",
      "source": [
        "write a python program to check if a given number is even or not."
      ],
      "metadata": {
        "id": "qzzibGEDA1IV"
      }
    },
    {
      "cell_type": "code",
      "execution_count": 5,
      "metadata": {
        "colab": {
          "base_uri": "https://localhost:8080/"
        },
        "id": "p-HWu9STA0Da",
        "outputId": "f5ffc3f5-b20b-479f-8104-b431535d05a3"
      },
      "outputs": [
        {
          "output_type": "stream",
          "name": "stdout",
          "text": [
            "this number 3 is not even\n"
          ]
        }
      ],
      "source": [
        "num=3\n",
        "# num % 2  --- to get the reminder when a number is divided by 2\n",
        "\n",
        "if(num%2 == 0):\n",
        "  print(\"this number {} : is even \".format(num))\n",
        "\n",
        "else:\n",
        "  print(\"this number {} is not even\".format(num))"
      ]
    },
    {
      "cell_type": "code",
      "source": [
        "num=int(input(\"enter a number\")) # reading the inputs\n",
        "# num % 2  --- to get the reminder when a number is divided by 2\n",
        "\n",
        "\n",
        "\n",
        "if(num%2 == 0):\n",
        "  print(\"this number {} : is even \".format(num))\n",
        "\n",
        "else:\n",
        "  print(\"this number {} is not even\".format(num))"
      ],
      "metadata": {
        "colab": {
          "base_uri": "https://localhost:8080/"
        },
        "id": "h3HL8gCpCp7x",
        "outputId": "198bf9a9-f6d8-4aa0-a24c-b8a53dc879a9"
      },
      "execution_count": 8,
      "outputs": [
        {
          "output_type": "stream",
          "name": "stdout",
          "text": [
            "enter a number20\n",
            "this number 20 : is even \n"
          ]
        }
      ]
    },
    {
      "cell_type": "markdown",
      "source": [
        "**how to take inputs in python from keyboard:**"
      ],
      "metadata": {
        "id": "wz1ElYedDhod"
      }
    },
    {
      "cell_type": "markdown",
      "source": [
        "**1. input(prompt)**\n",
        "\n",
        "this function is will take the input from the user and converts it into a string."
      ],
      "metadata": {
        "id": "p2448GERDzuP"
      }
    },
    {
      "cell_type": "code",
      "source": [
        "name = input()\n",
        "\n",
        "num_1=3\n",
        "print(name)\n",
        "print(type(name))\n",
        "\n",
        "print(name+num_1)\n"
      ],
      "metadata": {
        "colab": {
          "base_uri": "https://localhost:8080/",
          "height": 253
        },
        "id": "yDdgKQSKDvO1",
        "outputId": "2742ee15-f1fb-490e-b1e4-52b3c55a5b09"
      },
      "execution_count": 15,
      "outputs": [
        {
          "output_type": "stream",
          "name": "stdout",
          "text": [
            "2757468246\n",
            "2757468246\n",
            "<class 'str'>\n"
          ]
        },
        {
          "output_type": "error",
          "ename": "TypeError",
          "evalue": "ignored",
          "traceback": [
            "\u001b[0;31m---------------------------------------------------------------------------\u001b[0m",
            "\u001b[0;31mTypeError\u001b[0m                                 Traceback (most recent call last)",
            "\u001b[0;32m<ipython-input-15-1890dbc7e08d>\u001b[0m in \u001b[0;36m<cell line: 7>\u001b[0;34m()\u001b[0m\n\u001b[1;32m      5\u001b[0m \u001b[0mprint\u001b[0m\u001b[0;34m(\u001b[0m\u001b[0mtype\u001b[0m\u001b[0;34m(\u001b[0m\u001b[0mname\u001b[0m\u001b[0;34m)\u001b[0m\u001b[0;34m)\u001b[0m\u001b[0;34m\u001b[0m\u001b[0;34m\u001b[0m\u001b[0m\n\u001b[1;32m      6\u001b[0m \u001b[0;34m\u001b[0m\u001b[0m\n\u001b[0;32m----> 7\u001b[0;31m \u001b[0mprint\u001b[0m\u001b[0;34m(\u001b[0m\u001b[0mname\u001b[0m\u001b[0;34m+\u001b[0m\u001b[0mnum_1\u001b[0m\u001b[0;34m)\u001b[0m\u001b[0;34m\u001b[0m\u001b[0;34m\u001b[0m\u001b[0m\n\u001b[0m",
            "\u001b[0;31mTypeError\u001b[0m: can only concatenate str (not \"int\") to str"
          ]
        }
      ]
    },
    {
      "cell_type": "markdown",
      "source": [
        "**2. int(input())**\n",
        "\n",
        "this will take only specific data types whatever you mention explicitly"
      ],
      "metadata": {
        "id": "Zc2udIwkEoRw"
      }
    },
    {
      "cell_type": "code",
      "source": [
        "number = int(input(\"enter some number\"))\n",
        "print(number)\n",
        "print(type(number))"
      ],
      "metadata": {
        "colab": {
          "base_uri": "https://localhost:8080/",
          "height": 219
        },
        "id": "3tS79FF3EUyx",
        "outputId": "7891ed2b-09ae-4091-ecff-c5c2ee2a6128"
      },
      "execution_count": 13,
      "outputs": [
        {
          "name": "stdout",
          "output_type": "stream",
          "text": [
            "enter some numberjsdshhd\n"
          ]
        },
        {
          "output_type": "error",
          "ename": "ValueError",
          "evalue": "ignored",
          "traceback": [
            "\u001b[0;31m---------------------------------------------------------------------------\u001b[0m",
            "\u001b[0;31mValueError\u001b[0m                                Traceback (most recent call last)",
            "\u001b[0;32m<ipython-input-13-0c8ef349d2b5>\u001b[0m in \u001b[0;36m<cell line: 1>\u001b[0;34m()\u001b[0m\n\u001b[0;32m----> 1\u001b[0;31m \u001b[0mnumber\u001b[0m \u001b[0;34m=\u001b[0m \u001b[0mint\u001b[0m\u001b[0;34m(\u001b[0m\u001b[0minput\u001b[0m\u001b[0;34m(\u001b[0m\u001b[0;34m\"enter some number\"\u001b[0m\u001b[0;34m)\u001b[0m\u001b[0;34m)\u001b[0m\u001b[0;34m\u001b[0m\u001b[0;34m\u001b[0m\u001b[0m\n\u001b[0m\u001b[1;32m      2\u001b[0m \u001b[0mprint\u001b[0m\u001b[0;34m(\u001b[0m\u001b[0mnumber\u001b[0m\u001b[0;34m)\u001b[0m\u001b[0;34m\u001b[0m\u001b[0;34m\u001b[0m\u001b[0m\n\u001b[1;32m      3\u001b[0m \u001b[0mprint\u001b[0m\u001b[0;34m(\u001b[0m\u001b[0mtype\u001b[0m\u001b[0;34m(\u001b[0m\u001b[0mnumber\u001b[0m\u001b[0;34m)\u001b[0m\u001b[0;34m)\u001b[0m\u001b[0;34m\u001b[0m\u001b[0;34m\u001b[0m\u001b[0m\n",
            "\u001b[0;31mValueError\u001b[0m: invalid literal for int() with base 10: 'jsdshhd'"
          ]
        }
      ]
    },
    {
      "cell_type": "markdown",
      "source": [
        "**print all even numbers between 1 to 10:**"
      ],
      "metadata": {
        "id": "NJaSG3ISGjSP"
      }
    },
    {
      "cell_type": "code",
      "source": [
        "num=1\n",
        "while(num <=10):\n",
        "  if(num%2==0):\n",
        "    print(\"number {} is even \".format(num))\n",
        "  #else:\n",
        "    #print(\"number {} is odd\".format(num))\n",
        "  num=num+1"
      ],
      "metadata": {
        "colab": {
          "base_uri": "https://localhost:8080/"
        },
        "id": "4xQB4J0WGwvW",
        "outputId": "84a7cec8-826e-48aa-f64f-eff5ecb5279f"
      },
      "execution_count": 19,
      "outputs": [
        {
          "output_type": "stream",
          "name": "stdout",
          "text": [
            "number 2 is even \n",
            "number 4 is even \n",
            "number 6 is even \n",
            "number 8 is even \n",
            "number 10 is even \n"
          ]
        }
      ]
    },
    {
      "cell_type": "code",
      "source": [
        "for i in range(1,11):\n",
        "  if(i%2==0):\n",
        "    print(\"number {} is even\".format(i))"
      ],
      "metadata": {
        "colab": {
          "base_uri": "https://localhost:8080/"
        },
        "id": "xzb6sj0NH7El",
        "outputId": "ef0cd423-fea3-4f83-a28c-154f1d82b9b1"
      },
      "execution_count": 22,
      "outputs": [
        {
          "output_type": "stream",
          "name": "stdout",
          "text": [
            "number 2 is even\n",
            "number 4 is even\n",
            "number 6 is even\n",
            "number 8 is even\n"
          ]
        }
      ]
    },
    {
      "cell_type": "markdown",
      "source": [
        "1. exercise : given a number check if it is prime or not.\n",
        "\n",
        "    eg : number = 5\n",
        "         print(number is prime)\n",
        "\n",
        "         number =6\n",
        "         print(number is not prime)\n",
        "\n",
        "2. exercise : given a number n, print all prime numbers from 1 to n.\n",
        "    eg : number =10 \n",
        "\n",
        "         2 is prime\n",
        "         3 is prime\n",
        "         5 is prime\n",
        "         7 is prime\n",
        "         \n",
        "take the numbers from keyboard (u have use input funcnt)"
      ],
      "metadata": {
        "id": "zUDs9P18J_By"
      }
    }
  ]
}
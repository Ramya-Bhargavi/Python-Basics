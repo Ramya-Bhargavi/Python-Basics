{
  "nbformat": 4,
  "nbformat_minor": 0,
  "metadata": {
    "colab": {
      "provenance": []
    },
    "kernelspec": {
      "name": "python3",
      "display_name": "Python 3"
    },
    "language_info": {
      "name": "python"
    }
  },
  "cells": [
    {
      "cell_type": "markdown",
      "source": [
        "**Loop Through a List**\n",
        "You can loop through the list items by using a for loop:"
      ],
      "metadata": {
        "id": "AGSnakT8urjh"
      }
    },
    {
      "cell_type": "markdown",
      "source": [
        "**Example**\n",
        "Print all items in the list, one by one:"
      ],
      "metadata": {
        "id": "EQpXKcuiu2Va"
      }
    },
    {
      "cell_type": "code",
      "execution_count": 1,
      "metadata": {
        "colab": {
          "base_uri": "https://localhost:8080/"
        },
        "id": "A95omEjQtWvx",
        "outputId": "48a90dcd-6be3-45ea-d232-010d4e046102"
      },
      "outputs": [
        {
          "output_type": "stream",
          "name": "stdout",
          "text": [
            "apple\n",
            "banana\n",
            "cherry\n"
          ]
        }
      ],
      "source": [
        "thislist = [\"apple\", \"banana\", \"cherry\"]\n",
        "for x in thislist:\n",
        "  print(x)"
      ]
    },
    {
      "cell_type": "markdown",
      "source": [
        "Loop Through the Index Numbers\n",
        "\n",
        "You can also loop through the list items by referring to their index number.\n",
        "\n",
        "Use the range() and len() functions to create a suitable iterable.\n",
        "\n",
        "Example\n",
        "\n",
        "Print all items by referring to their index number:"
      ],
      "metadata": {
        "id": "CsTDLtmIwIZa"
      }
    },
    {
      "cell_type": "code",
      "source": [
        "thislist = [\"apple\", \"banana\", \"cherry\"]\n",
        "for i in range(len(thislist)):\n",
        "  print(thislist[i])"
      ],
      "metadata": {
        "colab": {
          "base_uri": "https://localhost:8080/"
        },
        "id": "mV2SEOAWwKPF",
        "outputId": "aec666b5-a64f-4452-f792-824f42f62bbe"
      },
      "execution_count": 2,
      "outputs": [
        {
          "output_type": "stream",
          "name": "stdout",
          "text": [
            "apple\n",
            "banana\n",
            "cherry\n"
          ]
        }
      ]
    },
    {
      "cell_type": "markdown",
      "source": [
        "Using a While Loop\n",
        "\n",
        "You can loop through the list items by using a while loop.\n",
        "\n",
        "Use the len() function to determine the length of the list, then start at 0 and loop your way through the list items by referring to their indexes.\n",
        "\n",
        "Remember to increase the index by 1 after each iteration.\n",
        "\n",
        "Example\n",
        "\n",
        "Print all items, using a while loop to go through all the index numbers"
      ],
      "metadata": {
        "id": "zJi6KQ2pwQRa"
      }
    },
    {
      "cell_type": "code",
      "source": [
        "thislist = [\"apple\", \"banana\", \"cherry\"]\n",
        "i = 0\n",
        "while i < len(thislist):\n",
        "  print(thislist[i])\n",
        "  i = i + 1"
      ],
      "metadata": {
        "colab": {
          "base_uri": "https://localhost:8080/"
        },
        "id": "wRyjsC2RwR_C",
        "outputId": "98a17226-555c-41bd-d255-515dd3ae17e6"
      },
      "execution_count": 3,
      "outputs": [
        {
          "output_type": "stream",
          "name": "stdout",
          "text": [
            "apple\n",
            "banana\n",
            "cherry\n"
          ]
        }
      ]
    },
    {
      "cell_type": "markdown",
      "source": [
        "Looping Using List Comprehension\n",
        "\n",
        "List Comprehension offers the shortest syntax for looping through lists:\n",
        "\n",
        "Example\n",
        "\n",
        "A short hand for loop that will print all items in a list:"
      ],
      "metadata": {
        "id": "EduZ4xZowYdR"
      }
    },
    {
      "cell_type": "markdown",
      "source": [
        "List comprehension offers a shorter syntax when you want to create a new list based on the values of an existing list.\n",
        "\n",
        "**Example:**\n",
        "\n",
        "Based on a list of fruits, you want a new list, containing only the fruits with the letter \"a\" in the name.\n",
        "\n",
        "Without list comprehension you will have to write a for statement with a conditional test inside:"
      ],
      "metadata": {
        "id": "j_FrmM3ewtST"
      }
    },
    {
      "cell_type": "code",
      "source": [
        "fruits = [\"apple\", \"banana\", \"cherry\", \"kiwi\", \"mango\"] #Without list comprehension\n",
        "newlist = []\n",
        "\n",
        "for x in fruits:\n",
        "  if \"a\" in x:\n",
        "    newlist.append(x)\n",
        "\n",
        "print(newlist)"
      ],
      "metadata": {
        "colab": {
          "base_uri": "https://localhost:8080/"
        },
        "id": "BknPBHQLws6a",
        "outputId": "a278669b-94ae-4f2f-a6db-4ea7461bfa0d"
      },
      "execution_count": 7,
      "outputs": [
        {
          "output_type": "stream",
          "name": "stdout",
          "text": [
            "['apple', 'banana', 'mango']\n"
          ]
        }
      ]
    },
    {
      "cell_type": "markdown",
      "source": [
        "With list comprehension you can do all that with only one line of code:"
      ],
      "metadata": {
        "id": "oi1pcOEhw5PI"
      }
    },
    {
      "cell_type": "code",
      "source": [
        "fruits = [\"apple\", \"banana\", \"cherry\", \"kiwi\", \"mango\"]#With list comprehension\n",
        " \n",
        "newlist = [x for x in fruits if \"a\" in x]\n",
        "\n",
        "print(newlist)"
      ],
      "metadata": {
        "colab": {
          "base_uri": "https://localhost:8080/"
        },
        "id": "_uyFWN41w3qy",
        "outputId": "1db72f0a-20cc-41e3-ffc5-f6ba26d56693"
      },
      "execution_count": 8,
      "outputs": [
        {
          "output_type": "stream",
          "name": "stdout",
          "text": [
            "['apple', 'banana', 'mango']\n"
          ]
        }
      ]
    },
    {
      "cell_type": "markdown",
      "source": [
        "**The Syntax**\n",
        "\n",
        "newlist = [expression for item in iterable if condition == True]\n",
        "\n",
        "The return value is a new list, leaving the old list unchanged.\n",
        "\n",
        "Condition **bold text**\n",
        "The condition is like a filter that only accepts the items that valuate to True."
      ],
      "metadata": {
        "id": "FGOrdeE1xL50"
      }
    },
    {
      "cell_type": "markdown",
      "source": [
        "Example\n",
        "\n",
        "Only accept items that are not \"apple\":"
      ],
      "metadata": {
        "id": "sv4C4v68xPyi"
      }
    },
    {
      "cell_type": "code",
      "source": [
        "newlist = [x for x in fruits if x != \"apple\"]"
      ],
      "metadata": {
        "id": "H8F-bcQ6xUl7"
      },
      "execution_count": 9,
      "outputs": []
    },
    {
      "cell_type": "markdown",
      "source": [
        "Example\n",
        "\n",
        "With no if statement:"
      ],
      "metadata": {
        "id": "oC5vgeuexdDZ"
      }
    },
    {
      "cell_type": "code",
      "source": [
        "newlist = [x for x in fruits]"
      ],
      "metadata": {
        "id": "J7RZcZlhxcpK"
      },
      "execution_count": 10,
      "outputs": []
    },
    {
      "cell_type": "markdown",
      "source": [
        "**Iterable**\n",
        "\n",
        "The iterable can be any iterable object, like a list, tuple, set etc.\n",
        "\n",
        "**Example**\n",
        "\n",
        "You can use the range() function to create an iterable:"
      ],
      "metadata": {
        "id": "3XdkD3PSxjyp"
      }
    },
    {
      "cell_type": "code",
      "source": [
        "newlist = [x for x in range(10)]"
      ],
      "metadata": {
        "id": "cISc8c9zxhPi"
      },
      "execution_count": 11,
      "outputs": []
    },
    {
      "cell_type": "markdown",
      "source": [
        "Same example, but with a condition:\n",
        "\n",
        "\n",
        "**Example**\n",
        "\n",
        "Accept only numbers lower than 5:"
      ],
      "metadata": {
        "id": "AVugrmW6x2DB"
      }
    },
    {
      "cell_type": "code",
      "source": [
        "newlist = [x for x in range(10) if x < 5]"
      ],
      "metadata": {
        "id": "uzUA7Z27x6hj"
      },
      "execution_count": 12,
      "outputs": []
    },
    {
      "cell_type": "markdown",
      "source": [
        "**Expression**\n",
        "\n",
        "The expression is the current item in the iteration, but it is also the outcome, which you can manipulate before it ends up like a list item in the new list:\n",
        "\n",
        "**Example**\n",
        "\n",
        "Set the values in the new list to upper case:"
      ],
      "metadata": {
        "id": "FCmwnR4jyF0L"
      }
    },
    {
      "cell_type": "code",
      "source": [
        "newlist = [x.upper() for x in fruits]"
      ],
      "metadata": {
        "id": "pv8UNzanyAha"
      },
      "execution_count": 13,
      "outputs": []
    },
    {
      "cell_type": "markdown",
      "source": [
        "You can set the outcome to whatever you like:\n",
        "\n",
        "Example\n",
        "\n",
        "Set all values in the new list to 'hello':"
      ],
      "metadata": {
        "id": "6YMVm-JjyPOx"
      }
    },
    {
      "cell_type": "code",
      "source": [
        "newlist = ['hello' for x in fruits]"
      ],
      "metadata": {
        "id": "l508vwCjyQhz"
      },
      "execution_count": 14,
      "outputs": []
    },
    {
      "cell_type": "markdown",
      "source": [
        "The expression can also contain conditions, not like a filter, but as a way to manipulate the outcome:\n",
        "\n",
        "Example\n",
        "\n",
        "Return \"orange\" instead of \"banana\":"
      ],
      "metadata": {
        "id": "7WzgQN_7yUcZ"
      }
    },
    {
      "cell_type": "code",
      "source": [
        "newlist = [x if x != \"banana\" else \"orange\" for x in fruits]"
      ],
      "metadata": {
        "id": "PDY9_SA4yWDh"
      },
      "execution_count": 15,
      "outputs": []
    },
    {
      "cell_type": "markdown",
      "source": [
        "The expression in the example above says:\n",
        "\n",
        "\"Return the item if it is not banana, if it is banana return orange\"."
      ],
      "metadata": {
        "id": "uu1Vkpq1ynX5"
      }
    },
    {
      "cell_type": "markdown",
      "source": [
        "**Sort List Alphanumerically**\n",
        "\n",
        "List objects have a sort() method that will sort the list alphanumerically, ascending, by default:"
      ],
      "metadata": {
        "id": "Dm-fQzGmy6zp"
      }
    },
    {
      "cell_type": "code",
      "source": [
        "thislist = [\"orange\", \"mango\", \"kiwi\", \"pineapple\", \"banana\"]\n",
        "thislist.sort()\n",
        "print(thislist)"
      ],
      "metadata": {
        "colab": {
          "base_uri": "https://localhost:8080/"
        },
        "id": "Q8-5MzhTys0I",
        "outputId": "51a369a2-7233-47a5-d67e-0b45604ca54b"
      },
      "execution_count": 16,
      "outputs": [
        {
          "output_type": "stream",
          "name": "stdout",
          "text": [
            "['banana', 'kiwi', 'mango', 'orange', 'pineapple']\n"
          ]
        }
      ]
    },
    {
      "cell_type": "markdown",
      "source": [
        "Example\n",
        "\n",
        "Sort the list numerically:\n",
        "\n"
      ],
      "metadata": {
        "id": "RrGbLV1OzB7M"
      }
    },
    {
      "cell_type": "code",
      "source": [
        "thislist = [100, 50, 65, 82, 23]\n",
        "thislist.sort()\n",
        "print(thislist)"
      ],
      "metadata": {
        "colab": {
          "base_uri": "https://localhost:8080/"
        },
        "id": "jIE5ytYPzEUj",
        "outputId": "b48db220-b474-41c6-a0bb-81380ef3bfa0"
      },
      "execution_count": 17,
      "outputs": [
        {
          "output_type": "stream",
          "name": "stdout",
          "text": [
            "[23, 50, 65, 82, 100]\n"
          ]
        }
      ]
    },
    {
      "cell_type": "markdown",
      "source": [
        "Sort Descending\n",
        "\n",
        "To sort descending, use the keyword argument reverse = True:\n",
        "\n",
        "Example\n",
        "\n",
        "Sort the list descending:"
      ],
      "metadata": {
        "id": "1MJ5OXdXzG3j"
      }
    },
    {
      "cell_type": "code",
      "source": [
        "thislist = [\"orange\", \"mango\", \"kiwi\", \"pineapple\", \"banana\"]\n",
        "thislist.sort(reverse = True)\n",
        "print(thislist)"
      ],
      "metadata": {
        "colab": {
          "base_uri": "https://localhost:8080/"
        },
        "id": "9CwJ57rTzK4j",
        "outputId": "c073f370-1a66-4066-fac1-6354879c8243"
      },
      "execution_count": 18,
      "outputs": [
        {
          "output_type": "stream",
          "name": "stdout",
          "text": [
            "['pineapple', 'orange', 'mango', 'kiwi', 'banana']\n"
          ]
        }
      ]
    },
    {
      "cell_type": "markdown",
      "source": [
        "Example\n",
        "\n",
        "Sort the list descending:"
      ],
      "metadata": {
        "id": "qs9yXirMzNYb"
      }
    },
    {
      "cell_type": "code",
      "source": [
        "thislist = [100, 50, 65, 82, 23]\n",
        "thislist.sort(reverse = True)\n",
        "print(thislist)"
      ],
      "metadata": {
        "colab": {
          "base_uri": "https://localhost:8080/"
        },
        "id": "s4xMhkD0zPzB",
        "outputId": "c04ca137-aff5-4732-c1be-91388241fccc"
      },
      "execution_count": 19,
      "outputs": [
        {
          "output_type": "stream",
          "name": "stdout",
          "text": [
            "[100, 82, 65, 50, 23]\n"
          ]
        }
      ]
    },
    {
      "cell_type": "markdown",
      "source": [
        "**Copy a List**\n",
        "\n",
        "You cannot copy a list simply by typing list2 = list1, because: list2 will only be a reference to list1, and changes made in list1 will automatically also be made in list2.\n",
        "\n",
        "There are ways to make a copy, one way is to use the built-in List method copy().\n",
        "\n",
        "Example\n",
        "\n",
        "Make a copy of a list with the copy() method:"
      ],
      "metadata": {
        "id": "rTcjtVu9zZUx"
      }
    },
    {
      "cell_type": "code",
      "source": [
        "thislist = [\"apple\", \"banana\", \"cherry\"]\n",
        "mylist = thislist.copy()\n",
        "print(mylist)"
      ],
      "metadata": {
        "colab": {
          "base_uri": "https://localhost:8080/"
        },
        "id": "oERqUNDYzV4h",
        "outputId": "d417697f-4f8c-464e-daa3-0ddceb283b29"
      },
      "execution_count": 20,
      "outputs": [
        {
          "output_type": "stream",
          "name": "stdout",
          "text": [
            "['apple', 'banana', 'cherry']\n"
          ]
        }
      ]
    },
    {
      "cell_type": "markdown",
      "source": [
        "Another way to make a copy is to use the built-in method list().\n",
        "\n",
        "Example\n",
        "\n",
        "Make a copy of a list with the list() method:"
      ],
      "metadata": {
        "id": "dEErhoOOzmHB"
      }
    },
    {
      "cell_type": "code",
      "source": [
        "thislist = [\"apple\", \"banana\", \"cherry\"]\n",
        "mylist = list(thislist)\n",
        "print(mylist)"
      ],
      "metadata": {
        "colab": {
          "base_uri": "https://localhost:8080/"
        },
        "id": "AYwRY4eGzns6",
        "outputId": "d180cc60-d4f4-4177-ac6c-86cfd6aa2867"
      },
      "execution_count": 21,
      "outputs": [
        {
          "output_type": "stream",
          "name": "stdout",
          "text": [
            "['apple', 'banana', 'cherry']\n"
          ]
        }
      ]
    },
    {
      "cell_type": "markdown",
      "source": [
        "**Join Two Lists**\n",
        "\n",
        "There are several ways to join, or concatenate, two or more lists in Python.\n",
        "\n",
        "One of the easiest ways are by using the + operator."
      ],
      "metadata": {
        "id": "29tjwVEfztCi"
      }
    },
    {
      "cell_type": "code",
      "source": [
        "list1 = [\"a\", \"b\", \"c\"]\n",
        "list2 = [1, 2, 3]\n",
        "\n",
        "list3 = list1 + list2\n",
        "print(list3)"
      ],
      "metadata": {
        "colab": {
          "base_uri": "https://localhost:8080/"
        },
        "id": "Ysxeh9RlzuvZ",
        "outputId": "f71f782a-9999-4247-fa70-b0fff087eb4f"
      },
      "execution_count": 22,
      "outputs": [
        {
          "output_type": "stream",
          "name": "stdout",
          "text": [
            "['a', 'b', 'c', 1, 2, 3]\n"
          ]
        }
      ]
    },
    {
      "cell_type": "markdown",
      "source": [
        "Another way to join two lists is by appending all the items from list2 into list1, one by one:\n",
        "\n",
        "Example\n",
        "\n",
        "Append list2 into list1:"
      ],
      "metadata": {
        "id": "kVhvD-uDz0Ml"
      }
    },
    {
      "cell_type": "code",
      "source": [
        "list1 = [\"a\", \"b\" , \"c\"]\n",
        "list2 = [1, 2, 3]\n",
        "\n",
        "for x in list2:\n",
        "  list1.append(x)\n",
        "\n",
        "print(list1)"
      ],
      "metadata": {
        "colab": {
          "base_uri": "https://localhost:8080/"
        },
        "id": "eoYMQysezx4h",
        "outputId": "0b41a6ca-7640-48f0-dcdb-29f141076272"
      },
      "execution_count": 23,
      "outputs": [
        {
          "output_type": "stream",
          "name": "stdout",
          "text": [
            "['a', 'b', 'c', 1, 2, 3]\n"
          ]
        }
      ]
    },
    {
      "cell_type": "markdown",
      "source": [
        "Or you can use the extend() method, which purpose is to add elements from one list to another list:\n",
        "\n",
        "Example\n",
        "\n",
        "Use the extend() method to add list2 at the end of list1:"
      ],
      "metadata": {
        "id": "szbc1q6ez44z"
      }
    },
    {
      "cell_type": "code",
      "source": [
        "list1 = [\"a\", \"b\" , \"c\"]\n",
        "list2 = [1, 2, 3]\n",
        "\n",
        "list1.extend(list2)\n",
        "print(list1)"
      ],
      "metadata": {
        "colab": {
          "base_uri": "https://localhost:8080/"
        },
        "id": "41MEOvDTz73K",
        "outputId": "2dd4ab73-f385-4b02-daa4-f8ba35555861"
      },
      "execution_count": 24,
      "outputs": [
        {
          "output_type": "stream",
          "name": "stdout",
          "text": [
            "['a', 'b', 'c', 1, 2, 3]\n"
          ]
        }
      ]
    },
    {
      "cell_type": "markdown",
      "source": [
        "**List Methods**\n",
        "\n",
        "Python has a set of built-in methods that you can use on lists.\n",
        "\n",
        "**Method\tDescription**\n",
        "\n",
        "append()\tAdds an element at the end of the list\n",
        "\n",
        "clear()\tRemoves all the elements from the list\n",
        "\n",
        "copy()\tReturns a copy of the list\n",
        "\n",
        "count()\tReturns the number of elements with the specified value\n",
        "\n",
        "extend()\tAdd the elements of a list (or any iterable), to the end of the current list\n",
        "\n",
        "index()\tReturns the index of the first element with the specified value\n",
        "\n",
        "insert()\tAdds an element at the specified position\n",
        "\n",
        "pop()\tRemoves the element at the specified position\n",
        "\n",
        "remove()\tRemoves the item with the specified value\n",
        "\n",
        "reverse()\tReverses the order of the list\n",
        "\n",
        "sort()\tSorts the list"
      ],
      "metadata": {
        "id": "38w2Bvi40ar6"
      }
    },
    {
      "cell_type": "markdown",
      "source": [],
      "metadata": {
        "id": "oj3B_aFp0iXA"
      }
    }
  ]
}
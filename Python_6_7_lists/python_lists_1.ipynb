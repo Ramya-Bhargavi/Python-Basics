{
  "cells": [
    {
      "cell_type": "markdown",
      "source": [
        "**List**\n",
        "\n",
        "Lists are used to store multiple items in a single variable.\n",
        "\n",
        "Lists are one of 4 built-in data types in Python used to store collections of data, the other 3 are Tuple, Set, and Dictionary, all with different qualities and usage.\n",
        "\n",
        "Lists are created using square brackets:"
      ],
      "metadata": {
        "id": "6XV8DR2gw6OB"
      }
    },
    {
      "cell_type": "code",
      "execution_count": 1,
      "metadata": {
        "scrolled": true,
        "id": "Ed_PIyttwj9L",
        "outputId": "5a712550-b801-4bd9-d411-4d2a610c910d",
        "colab": {
          "base_uri": "https://localhost:8080/"
        }
      },
      "outputs": [
        {
          "output_type": "execute_result",
          "data": {
            "text/plain": [
              "['halva', 'kheer', 'jalebi', 'gulab jamun']"
            ]
          },
          "metadata": {},
          "execution_count": 1
        }
      ],
      "source": [
        "mithai=['halva','kheer','jalebi','gulab jamun']\n",
        "mithai"
      ]
    },
    {
      "cell_type": "code",
      "execution_count": 2,
      "metadata": {
        "scrolled": true,
        "id": "gS9ADBPowj9T",
        "outputId": "c2f1c715-3064-40d1-f679-67ddd223ec37",
        "colab": {
          "base_uri": "https://localhost:8080/"
        }
      },
      "outputs": [
        {
          "output_type": "execute_result",
          "data": {
            "text/plain": [
              "list"
            ]
          },
          "metadata": {},
          "execution_count": 2
        }
      ],
      "source": [
        "type(mithai)"
      ]
    },
    {
      "cell_type": "markdown",
      "metadata": {
        "id": "zObmqXGmwj9V"
      },
      "source": [
        "**Index Operator**"
      ]
    },
    {
      "cell_type": "code",
      "execution_count": 3,
      "metadata": {
        "id": "Kxdxdj7Pwj9a",
        "outputId": "b893b777-f9ec-4b01-8b07-b372f9876686",
        "colab": {
          "base_uri": "https://localhost:8080/",
          "height": 36
        }
      },
      "outputs": [
        {
          "output_type": "execute_result",
          "data": {
            "text/plain": [
              "'halva'"
            ],
            "application/vnd.google.colaboratory.intrinsic+json": {
              "type": "string"
            }
          },
          "metadata": {},
          "execution_count": 3
        }
      ],
      "source": [
        "mithai[0]"
      ]
    },
    {
      "cell_type": "code",
      "execution_count": 4,
      "metadata": {
        "id": "76i2wZkTwj9b",
        "outputId": "634c0507-bca2-4509-a3c4-fe26ac1457c9",
        "colab": {
          "base_uri": "https://localhost:8080/",
          "height": 36
        }
      },
      "outputs": [
        {
          "output_type": "execute_result",
          "data": {
            "text/plain": [
              "'kheer'"
            ],
            "application/vnd.google.colaboratory.intrinsic+json": {
              "type": "string"
            }
          },
          "metadata": {},
          "execution_count": 4
        }
      ],
      "source": [
        "mithai[1]"
      ]
    },
    {
      "cell_type": "code",
      "execution_count": 5,
      "metadata": {
        "scrolled": true,
        "id": "rLtRedoDwj9d",
        "outputId": "6939365a-a8d6-423b-b75a-f2017a5c29c5",
        "colab": {
          "base_uri": "https://localhost:8080/",
          "height": 36
        }
      },
      "outputs": [
        {
          "output_type": "execute_result",
          "data": {
            "text/plain": [
              "'gulab jamun'"
            ],
            "application/vnd.google.colaboratory.intrinsic+json": {
              "type": "string"
            }
          },
          "metadata": {},
          "execution_count": 5
        }
      ],
      "source": [
        "mithai[-1]"
      ]
    },
    {
      "cell_type": "markdown",
      "metadata": {
        "id": "0IsmrLhUwj9e"
      },
      "source": [
        "**List Slicing Using Range Index**"
      ]
    },
    {
      "cell_type": "code",
      "execution_count": 6,
      "metadata": {
        "id": "_EN5ZEihwj9f",
        "outputId": "2f3bf3c3-a2ea-4873-a918-d6608c960d27",
        "colab": {
          "base_uri": "https://localhost:8080/"
        }
      },
      "outputs": [
        {
          "output_type": "execute_result",
          "data": {
            "text/plain": [
              "['kheer', 'jalebi']"
            ]
          },
          "metadata": {},
          "execution_count": 6
        }
      ],
      "source": [
        "mithai[1:3]"
      ]
    },
    {
      "cell_type": "code",
      "execution_count": 7,
      "metadata": {
        "id": "929pM_r7wj9g",
        "outputId": "74aed84a-9abd-4119-8cee-b5c989e5d84f",
        "colab": {
          "base_uri": "https://localhost:8080/"
        }
      },
      "outputs": [
        {
          "output_type": "execute_result",
          "data": {
            "text/plain": [
              "['halva', 'kheer']"
            ]
          },
          "metadata": {},
          "execution_count": 7
        }
      ],
      "source": [
        "mithai[:2]"
      ]
    },
    {
      "cell_type": "code",
      "execution_count": 8,
      "metadata": {
        "id": "7vrXhGLfwj9h",
        "outputId": "befa0671-59d1-4e77-b7d2-6e1ad95414e1",
        "colab": {
          "base_uri": "https://localhost:8080/"
        }
      },
      "outputs": [
        {
          "output_type": "execute_result",
          "data": {
            "text/plain": [
              "['jalebi', 'gulab jamun']"
            ]
          },
          "metadata": {},
          "execution_count": 8
        }
      ],
      "source": [
        "mithai[2:]"
      ]
    },
    {
      "cell_type": "code",
      "execution_count": 9,
      "metadata": {
        "scrolled": false,
        "id": "t2H2fLP5wj9i",
        "outputId": "80ee3a12-dab5-4974-c480-890cb7ec398c",
        "colab": {
          "base_uri": "https://localhost:8080/"
        }
      },
      "outputs": [
        {
          "output_type": "execute_result",
          "data": {
            "text/plain": [
              "['halva', 'kheer', 'jalebi', 'gulab jamun']"
            ]
          },
          "metadata": {},
          "execution_count": 9
        }
      ],
      "source": [
        "mithai[-4:]"
      ]
    },
    {
      "cell_type": "markdown",
      "metadata": {
        "id": "o0nbQf5Xwj9j"
      },
      "source": [
        "**len() function**"
      ]
    },
    {
      "cell_type": "code",
      "execution_count": 10,
      "metadata": {
        "scrolled": true,
        "id": "Lz8MQajUwj9k",
        "outputId": "1509fd59-85c2-469f-cd82-8e68042d82a3",
        "colab": {
          "base_uri": "https://localhost:8080/"
        }
      },
      "outputs": [
        {
          "output_type": "execute_result",
          "data": {
            "text/plain": [
              "4"
            ]
          },
          "metadata": {},
          "execution_count": 10
        }
      ],
      "source": [
        "len(mithai)"
      ]
    },
    {
      "cell_type": "markdown",
      "metadata": {
        "id": "kYsLa2gQwj9l"
      },
      "source": [
        "**in operator**"
      ]
    },
    {
      "cell_type": "code",
      "execution_count": 11,
      "metadata": {
        "scrolled": true,
        "id": "BTcchUKjwj9m",
        "outputId": "a40eca02-7bb3-41e7-90e4-33622cc38d7d",
        "colab": {
          "base_uri": "https://localhost:8080/"
        }
      },
      "outputs": [
        {
          "output_type": "execute_result",
          "data": {
            "text/plain": [
              "True"
            ]
          },
          "metadata": {},
          "execution_count": 11
        }
      ],
      "source": [
        "'halva' in mithai"
      ]
    },
    {
      "cell_type": "code",
      "execution_count": 12,
      "metadata": {
        "id": "1z50B2fdwj9m",
        "outputId": "679e5f81-537c-4992-ef3d-6a1ae08d65f2",
        "colab": {
          "base_uri": "https://localhost:8080/"
        }
      },
      "outputs": [
        {
          "output_type": "execute_result",
          "data": {
            "text/plain": [
              "False"
            ]
          },
          "metadata": {},
          "execution_count": 12
        }
      ],
      "source": [
        "'samosa' in mithai"
      ]
    },
    {
      "cell_type": "markdown",
      "metadata": {
        "id": "2d2prRnEwj9n"
      },
      "source": [
        "**append and insert functions**"
      ]
    },
    {
      "cell_type": "code",
      "execution_count": 13,
      "metadata": {
        "id": "HHyqkKvqwj9o",
        "outputId": "41ed100b-a237-46a2-b118-ae57c02661ce",
        "colab": {
          "base_uri": "https://localhost:8080/"
        }
      },
      "outputs": [
        {
          "output_type": "execute_result",
          "data": {
            "text/plain": [
              "['halva', 'kheer', 'jalebi', 'gulab jamun', 'laddu']"
            ]
          },
          "metadata": {},
          "execution_count": 13
        }
      ],
      "source": [
        "mithai.append('laddu')\n",
        "mithai"
      ]
    },
    {
      "cell_type": "code",
      "execution_count": 14,
      "metadata": {
        "id": "1ONKF5IOwj9p",
        "outputId": "45953dd6-23e5-4a71-8c73-4a54819a0f99",
        "colab": {
          "base_uri": "https://localhost:8080/"
        }
      },
      "outputs": [
        {
          "output_type": "execute_result",
          "data": {
            "text/plain": [
              "['halva', 'kheer', 'kulfi', 'jalebi', 'gulab jamun', 'laddu']"
            ]
          },
          "metadata": {},
          "execution_count": 14
        }
      ],
      "source": [
        "mithai.insert(2,'kulfi')\n",
        "mithai"
      ]
    },
    {
      "cell_type": "markdown",
      "metadata": {
        "id": "bBFvODe5wj9q"
      },
      "source": [
        "**Adding two lists**"
      ]
    },
    {
      "cell_type": "code",
      "execution_count": 15,
      "metadata": {
        "id": "FFTfZg8rwj9s",
        "outputId": "2882e79b-cf82-42b8-927c-0c71ed39b58d",
        "colab": {
          "base_uri": "https://localhost:8080/"
        }
      },
      "outputs": [
        {
          "output_type": "execute_result",
          "data": {
            "text/plain": [
              "['samosa', 'sev']"
            ]
          },
          "metadata": {},
          "execution_count": 15
        }
      ],
      "source": [
        "tikha=['samosa','sev']\n",
        "tikha"
      ]
    },
    {
      "cell_type": "code",
      "execution_count": 16,
      "metadata": {
        "id": "5-u5t_m5wj9t",
        "outputId": "94bf05cb-b3fc-4ea7-e3ff-4725948ad9f7",
        "colab": {
          "base_uri": "https://localhost:8080/"
        }
      },
      "outputs": [
        {
          "output_type": "execute_result",
          "data": {
            "text/plain": [
              "['halva', 'kheer', 'kulfi', 'jalebi', 'gulab jamun', 'laddu', 'samosa', 'sev']"
            ]
          },
          "metadata": {},
          "execution_count": 16
        }
      ],
      "source": [
        "food=mithai+tikha\n",
        "food"
      ]
    },
    {
      "cell_type": "code",
      "execution_count": 17,
      "metadata": {
        "scrolled": false,
        "id": "bYwcbhrhwj9u",
        "outputId": "4ffaaf2e-85c8-4428-930e-252bcf705885",
        "colab": {
          "base_uri": "https://localhost:8080/",
          "height": 165
        }
      },
      "outputs": [
        {
          "output_type": "error",
          "ename": "TypeError",
          "evalue": "ignored",
          "traceback": [
            "\u001b[0;31m---------------------------------------------------------------------------\u001b[0m",
            "\u001b[0;31mTypeError\u001b[0m                                 Traceback (most recent call last)",
            "\u001b[0;32m<ipython-input-17-ad91dcd16fe3>\u001b[0m in \u001b[0;36m<module>\u001b[0;34m\u001b[0m\n\u001b[0;32m----> 1\u001b[0;31m \u001b[0mmithai\u001b[0m\u001b[0;34m+\u001b[0m\u001b[0;34m'sev'\u001b[0m\u001b[0;34m\u001b[0m\u001b[0;34m\u001b[0m\u001b[0m\n\u001b[0m",
            "\u001b[0;31mTypeError\u001b[0m: can only concatenate list (not \"str\") to list"
          ]
        }
      ],
      "source": [
        "mithai+'sev'"
      ]
    },
    {
      "cell_type": "markdown",
      "source": [
        "**List Items**\n",
        "List items are ordered, changeable, and allow duplicate values.\n",
        "\n",
        "List items are indexed, the first item has index [0], the second item has index [1] etc."
      ],
      "metadata": {
        "id": "UzSGkieoxDMo"
      }
    },
    {
      "cell_type": "markdown",
      "source": [
        "**Ordered**\n",
        "When we say that lists are ordered, it means that the items have a defined order, and that order will not change.\n",
        "\n",
        "If you add new items to a list, the new items will be placed at the end of the list."
      ],
      "metadata": {
        "id": "Jxsqyo_UxE_n"
      }
    },
    {
      "cell_type": "markdown",
      "source": [
        "**Changeable**\n",
        "The list is changeable, meaning that we can change, add, and remove items in a list after it has been created."
      ],
      "metadata": {
        "id": "6xXtcVFhxO8P"
      }
    },
    {
      "cell_type": "markdown",
      "source": [
        "**Allow Duplicates**\n",
        "\n",
        "Since lists are indexed, lists can have items with the same value:"
      ],
      "metadata": {
        "id": "5AJHo9qpxRuy"
      }
    },
    {
      "cell_type": "markdown",
      "source": [
        "Example\n",
        "\n",
        "Lists allow duplicate values:"
      ],
      "metadata": {
        "id": "RnXnBKW9xVd-"
      }
    },
    {
      "cell_type": "code",
      "source": [
        "thislist = [\"apple\", \"banana\", \"cherry\", \"apple\", \"cherry\"]\n",
        "print(thislist)"
      ],
      "metadata": {
        "colab": {
          "base_uri": "https://localhost:8080/"
        },
        "id": "YkJUb8tOxZey",
        "outputId": "67444d26-46ef-40c5-bef1-cf848993dcc1"
      },
      "execution_count": 18,
      "outputs": [
        {
          "output_type": "stream",
          "name": "stdout",
          "text": [
            "['apple', 'banana', 'cherry', 'apple', 'cherry']\n"
          ]
        }
      ]
    },
    {
      "cell_type": "markdown",
      "source": [
        "**List Length**\n",
        "To determine how many items a list has, use the len() function:\n",
        "\n",
        "**Example**\n",
        "Print the number of items in the list:"
      ],
      "metadata": {
        "id": "TnkanP5Px023"
      }
    },
    {
      "cell_type": "code",
      "source": [
        "thislist = [\"apple\", \"banana\", \"cherry\"]\n",
        "print(len(thislist))"
      ],
      "metadata": {
        "colab": {
          "base_uri": "https://localhost:8080/"
        },
        "id": "FkLwRb8bx2mn",
        "outputId": "cb048525-5bab-4b5b-fad7-afcaa149c163"
      },
      "execution_count": 19,
      "outputs": [
        {
          "output_type": "stream",
          "name": "stdout",
          "text": [
            "3\n"
          ]
        }
      ]
    },
    {
      "cell_type": "markdown",
      "source": [
        "**List Items - Data Types**\n",
        "\n",
        "List items can be of any data type:\n",
        "\n",
        "**Example**\n",
        "\n",
        "String, int and boolean data types:"
      ],
      "metadata": {
        "id": "H5g4FrMnx9NQ"
      }
    },
    {
      "cell_type": "markdown",
      "source": [
        "A list can contain different data types:\n",
        "\n",
        "**Example**\n",
        "A list with strings, integers and boolean values:"
      ],
      "metadata": {
        "id": "LzFNJR4uyFNn"
      }
    },
    {
      "cell_type": "code",
      "source": [
        "list1 = [\"abc\", 34, True, 40, \"male\"]\n"
      ],
      "metadata": {
        "id": "paA6NjOtyHrg"
      },
      "execution_count": 20,
      "outputs": []
    },
    {
      "cell_type": "code",
      "source": [
        "list1 = [\"apple\", \"banana\", \"cherry\"]\n",
        "list2 = [1, 5, 7, 9, 3]\n",
        "list3 = [True, False, False]"
      ],
      "metadata": {
        "id": "u6I3bCQQyt_Y"
      },
      "execution_count": 21,
      "outputs": []
    },
    {
      "cell_type": "markdown",
      "source": [
        "**type()**\n",
        "From Python's perspective, lists are defined as objects with the data type 'list':\n",
        "\n",
        "<class 'list'>\n",
        "**Example**\n",
        "\n",
        "What is the data type of a list?\n"
      ],
      "metadata": {
        "id": "JU1AbQuzyM5f"
      }
    },
    {
      "cell_type": "code",
      "source": [
        "mylist = [\"apple\", \"banana\", \"cherry\"]\n",
        "print(type(mylist))"
      ],
      "metadata": {
        "colab": {
          "base_uri": "https://localhost:8080/"
        },
        "id": "3KjmW2jPyQ8Z",
        "outputId": "0cd75019-f54b-41d1-ae39-1fa50cec3dfc"
      },
      "execution_count": 22,
      "outputs": [
        {
          "output_type": "stream",
          "name": "stdout",
          "text": [
            "<class 'list'>\n"
          ]
        }
      ]
    },
    {
      "cell_type": "markdown",
      "source": [
        "**The list() Constructor**\n",
        "It is also possible to use the list() constructor when creating a new list.\n",
        "\n",
        "**Example**\n",
        "Using the list() constructor to make a List:"
      ],
      "metadata": {
        "id": "k1p41zxwyWwh"
      }
    },
    {
      "cell_type": "code",
      "source": [
        "thislist = list((\"apple\", \"banana\", \"cherry\")) # note the double round-brackets\n",
        "print(thislist)"
      ],
      "metadata": {
        "colab": {
          "base_uri": "https://localhost:8080/"
        },
        "id": "eaxH0vt2yT7w",
        "outputId": "c94e6fe9-449f-4857-c356-d951f1101656"
      },
      "execution_count": 23,
      "outputs": [
        {
          "output_type": "stream",
          "name": "stdout",
          "text": [
            "['apple', 'banana', 'cherry']\n"
          ]
        }
      ]
    },
    {
      "cell_type": "markdown",
      "source": [
        "**Python Collections (Arrays)**\n",
        "\n",
        "There are four collection data types in the Python programming language:\n",
        "\n",
        "**List** is a collection which is ordered and changeable. Allows duplicate members.\n",
        "\n",
        "**Tuple** is a collection which is ordered and unchangeable. Allows duplicate members.\n",
        "\n",
        "**Set** is a collection which is unordered, unchangeable*, and unindexed. No duplicate members.\n",
        "\n",
        "**Dictionary** is a collection which is ordered** and changeable. No duplicate members."
      ],
      "metadata": {
        "id": "eLrJ15srynwH"
      }
    },
    {
      "cell_type": "markdown",
      "source": [
        "**NOTE:**\n",
        "\n",
        "**When choosing a collection type, it is useful to understand the properties of that type. Choosing the right type for a particular data set could mean retention of meaning, and, it could mean an increase in efficiency or security.**"
      ],
      "metadata": {
        "id": "--wx92Rry8Xy"
      }
    },
    {
      "cell_type": "markdown",
      "source": [
        "**Python - Access List Items**\n",
        "\n",
        "Access Items\n",
        "\n",
        "List items are indexed and you can access them by referring to the index number:"
      ],
      "metadata": {
        "id": "dOTHIzQmw2sx"
      }
    },
    {
      "cell_type": "markdown",
      "source": [
        "Example\n",
        "\n",
        "Print the second item of the list:"
      ],
      "metadata": {
        "id": "I4tGmyxA0Fxe"
      }
    },
    {
      "cell_type": "code",
      "source": [
        "thislist = [\"apple\", \"banana\", \"cherry\"]\n",
        "print(thislist[1])\n"
      ],
      "metadata": {
        "colab": {
          "base_uri": "https://localhost:8080/"
        },
        "id": "BMhLzG3Gz8PF",
        "outputId": "36cf368e-29c4-4ddd-d150-fbee3c6c736e"
      },
      "execution_count": 26,
      "outputs": [
        {
          "output_type": "stream",
          "name": "stdout",
          "text": [
            "banana\n"
          ]
        }
      ]
    },
    {
      "cell_type": "markdown",
      "source": [
        "Negative Indexing\n",
        "\n",
        "Negative indexing means start from the end\n",
        "\n",
        "-1 refers to the last item, -2 refers to the second last item etc.\n",
        "\n",
        "Example\n",
        "\n",
        "Print the last item of the list:"
      ],
      "metadata": {
        "id": "gRj1IvWO0Njq"
      }
    },
    {
      "cell_type": "code",
      "source": [
        "thislist = [\"apple\", \"banana\", \"cherry\"]\n",
        "print(thislist[-1])"
      ],
      "metadata": {
        "colab": {
          "base_uri": "https://localhost:8080/"
        },
        "id": "zmqhLlC80P_I",
        "outputId": "6f95a6fd-e16c-492d-a756-fdc9ec5c425e"
      },
      "execution_count": 27,
      "outputs": [
        {
          "output_type": "stream",
          "name": "stdout",
          "text": [
            "cherry\n"
          ]
        }
      ]
    },
    {
      "cell_type": "markdown",
      "source": [
        "**Range of Indexes**\n",
        "You can specify a range of indexes by specifying where to start and where to end the range.\n",
        "\n",
        "When specifying a range, the return value will be a new list with the specified items."
      ],
      "metadata": {
        "id": "683uMddd0V-x"
      }
    },
    {
      "cell_type": "markdown",
      "source": [
        "**Example**\n",
        "Return the third, fourth, and fifth item:\n",
        "\n"
      ],
      "metadata": {
        "id": "mLTNkdaB0fJp"
      }
    },
    {
      "cell_type": "code",
      "source": [
        "thislist = [\"apple\", \"banana\", \"cherry\", \"orange\", \"kiwi\", \"melon\", \"mango\"]\n",
        "print(thislist[2:5])"
      ],
      "metadata": {
        "colab": {
          "base_uri": "https://localhost:8080/"
        },
        "id": "B9q_dM-A0YCu",
        "outputId": "09412ff8-3897-4789-a817-52afd1df0312"
      },
      "execution_count": 28,
      "outputs": [
        {
          "output_type": "stream",
          "name": "stdout",
          "text": [
            "['cherry', 'orange', 'kiwi']\n"
          ]
        }
      ]
    },
    {
      "cell_type": "markdown",
      "source": [
        "Note:\n",
        "\n",
        "The search will start at index 2 (included) and end at index 5 (not included).\n",
        "Remember that the first item has index 0.\n",
        "\n",
        "By leaving out the start value, the range will start at the first item:\n",
        "\n",
        "**Example**\n",
        "\n",
        "This example returns the items from the beginning to, but NOT including, \"kiwi\":\n",
        "\n"
      ],
      "metadata": {
        "id": "TxaLgF160Nhr"
      }
    },
    {
      "cell_type": "code",
      "source": [
        "thislist = [\"apple\", \"banana\", \"cherry\", \"orange\", \"kiwi\", \"melon\", \"mango\"]\n",
        "print(thislist[:4])"
      ],
      "metadata": {
        "colab": {
          "base_uri": "https://localhost:8080/"
        },
        "id": "LCtq815q0zXX",
        "outputId": "e9f063fd-4997-438d-8927-ef5b2f45c0b0"
      },
      "execution_count": 29,
      "outputs": [
        {
          "output_type": "stream",
          "name": "stdout",
          "text": [
            "['apple', 'banana', 'cherry', 'orange']\n"
          ]
        }
      ]
    },
    {
      "cell_type": "markdown",
      "source": [
        "By leaving out the end value, the range will go on to the end of the list:\n",
        "\n",
        "**Example**\n",
        "This example returns the items from \"cherry\" to the end:"
      ],
      "metadata": {
        "id": "AkcKJrZpz7Pm"
      }
    },
    {
      "cell_type": "code",
      "source": [
        "thislist = [\"apple\", \"banana\", \"cherry\", \"orange\", \"kiwi\", \"melon\", \"mango\"]\n",
        "print(thislist[2:])"
      ],
      "metadata": {
        "colab": {
          "base_uri": "https://localhost:8080/"
        },
        "id": "zXH5Zgnd1B2_",
        "outputId": "fc46b113-d3cf-400f-a816-90695f7a5053"
      },
      "execution_count": 30,
      "outputs": [
        {
          "output_type": "stream",
          "name": "stdout",
          "text": [
            "['cherry', 'orange', 'kiwi', 'melon', 'mango']\n"
          ]
        }
      ]
    },
    {
      "cell_type": "markdown",
      "source": [
        "**Range of Negative Indexes**\n",
        "\n",
        "Specify negative indexes if you want to start the search from the end of the list:\n",
        "\n",
        "**Example**\n",
        "\n",
        "This example returns the items from \"orange\" (-4) to, but NOT including \"mango\" (-1):"
      ],
      "metadata": {
        "id": "xqNiB3Of1HRu"
      }
    },
    {
      "cell_type": "code",
      "source": [
        "thislist = [\"apple\", \"banana\", \"cherry\", \"orange\", \"kiwi\", \"melon\", \"mango\"]\n",
        "print(thislist[-4:-1])"
      ],
      "metadata": {
        "colab": {
          "base_uri": "https://localhost:8080/"
        },
        "id": "8_uEEeKw1JlB",
        "outputId": "1025b240-39e0-4427-f4d8-c6cf686f469a"
      },
      "execution_count": 32,
      "outputs": [
        {
          "output_type": "stream",
          "name": "stdout",
          "text": [
            "['orange', 'kiwi', 'melon']\n"
          ]
        }
      ]
    },
    {
      "cell_type": "markdown",
      "source": [
        "**Check if Item Exists**\n",
        "\n",
        "To determine if a specified item is present in a list use the in keyword:\n",
        "\n",
        "**Example**\n",
        "\n",
        "Check if \"apple\" is present in the list:"
      ],
      "metadata": {
        "id": "YWUhkA6M1PSm"
      }
    },
    {
      "cell_type": "code",
      "source": [
        "thislist = [\"apple\", \"banana\", \"cherry\"]\n",
        "if \"apple\" in thislist:\n",
        "  print(\"Yes, 'apple' is in the fruits list\")"
      ],
      "metadata": {
        "colab": {
          "base_uri": "https://localhost:8080/"
        },
        "id": "Krm4u1Hc1Rjn",
        "outputId": "c44f46ec-43a4-4b02-a20b-eaca69889334"
      },
      "execution_count": 33,
      "outputs": [
        {
          "output_type": "stream",
          "name": "stdout",
          "text": [
            "Yes, 'apple' is in the fruits list\n"
          ]
        }
      ]
    },
    {
      "cell_type": "markdown",
      "source": [
        "# **Change Item Value**\n",
        "\n",
        "---\n",
        "\n",
        "\n",
        "\n",
        "\n",
        "\n",
        "To change the value of a specific item, refer to the index number:"
      ],
      "metadata": {
        "id": "xlZvIQiL1Xfe"
      }
    },
    {
      "cell_type": "code",
      "source": [
        "thislist = [\"apple\", \"banana\", \"cherry\"]\n",
        "thislist[1] = \"blackcurrant\"\n",
        "print(thislist)"
      ],
      "metadata": {
        "colab": {
          "base_uri": "https://localhost:8080/"
        },
        "id": "4eUbPmIM1UoN",
        "outputId": "3897d11d-b0d5-4b97-834f-46fb0f1eb244"
      },
      "execution_count": 34,
      "outputs": [
        {
          "output_type": "stream",
          "name": "stdout",
          "text": [
            "['apple', 'blackcurrant', 'cherry']\n"
          ]
        }
      ]
    },
    {
      "cell_type": "markdown",
      "source": [
        "**Change a Range of Item Values**\n",
        "\n",
        "To change the value of items within a specific range, define a list with the new values, and refer to the range of index numbers where you want to insert the new values:\n",
        "\n",
        "Example\n",
        "\n",
        "Change the values \"banana\" and \"cherry\" with the values \"blackcurrant\" and \"watermelon\":"
      ],
      "metadata": {
        "id": "Hduiss_q1ejW"
      }
    },
    {
      "cell_type": "code",
      "source": [
        "thislist = [\"apple\", \"banana\", \"cherry\", \"orange\", \"kiwi\", \"mango\"]\n",
        "thislist[1:3] = [\"blackcurrant\", \"watermelon\"]\n",
        "print(thislist)"
      ],
      "metadata": {
        "colab": {
          "base_uri": "https://localhost:8080/"
        },
        "id": "6RJEnDDw1pwT",
        "outputId": "a24f97c5-bbed-4390-c50a-9b765790f692"
      },
      "execution_count": 35,
      "outputs": [
        {
          "output_type": "stream",
          "name": "stdout",
          "text": [
            "['apple', 'blackcurrant', 'watermelon', 'orange', 'kiwi', 'mango']\n"
          ]
        }
      ]
    },
    {
      "cell_type": "markdown",
      "source": [
        "If you insert more items than you replace, the new items will be inserted where you specified, and the remaining items will move accordingly:\n",
        "\n",
        "Example\n",
        "\n",
        "Change the second value by replacing it with two new values:"
      ],
      "metadata": {
        "id": "I2HPy5lH1xZq"
      }
    },
    {
      "cell_type": "code",
      "source": [
        "thislist = [\"apple\", \"banana\", \"cherry\"]\n",
        "thislist[1:2] = [\"blackcurrant\", \"watermelon\"]\n",
        "print(thislist)"
      ],
      "metadata": {
        "colab": {
          "base_uri": "https://localhost:8080/"
        },
        "id": "2-SJweVb1yxb",
        "outputId": "4e0ce54d-98ee-4543-b3da-9d10d808696f"
      },
      "execution_count": 36,
      "outputs": [
        {
          "output_type": "stream",
          "name": "stdout",
          "text": [
            "['apple', 'blackcurrant', 'watermelon', 'cherry']\n"
          ]
        }
      ]
    },
    {
      "cell_type": "markdown",
      "source": [
        "**Note:** The length of the list will change when the number of items inserted does not match the number of items replaced.\n",
        "\n",
        "If you insert less items than you replace, the new items will be inserted where you specified, and the remaining items will move accordingly:\n",
        "\n",
        "**Example**\n",
        "\n",
        "Change the second and third value by replacing it with one value:\n",
        "\n"
      ],
      "metadata": {
        "id": "6fR_fRXf2_zP"
      }
    },
    {
      "cell_type": "code",
      "source": [
        "thislist = [\"apple\", \"banana\", \"cherry\"]\n",
        "thislist[1:3] = [\"watermelon\"]\n",
        "print(thislist)"
      ],
      "metadata": {
        "id": "zBO6NX7n3DEv",
        "colab": {
          "base_uri": "https://localhost:8080/"
        },
        "outputId": "ffa3b4cc-f92b-472f-ce84-5597445ac2a7"
      },
      "execution_count": 37,
      "outputs": [
        {
          "output_type": "stream",
          "name": "stdout",
          "text": [
            "['apple', 'watermelon']\n"
          ]
        }
      ]
    },
    {
      "cell_type": "markdown",
      "source": [
        "**Insert Items**\n",
        "To insert a new list item, without replacing any of the existing values, we can use the insert() method.\n",
        "\n",
        "The insert() method inserts an item at the specified index:"
      ],
      "metadata": {
        "id": "ShQAb5TT3Hcm"
      }
    },
    {
      "cell_type": "markdown",
      "source": [
        "**Example**\n",
        "Insert \"watermelon\" as the third item:"
      ],
      "metadata": {
        "id": "zfA6at893LX-"
      }
    },
    {
      "cell_type": "code",
      "source": [
        "thislist = [\"apple\", \"banana\", \"cherry\"]\n",
        "thislist.insert(2, \"watermelon\")\n",
        "print(thislist)"
      ],
      "metadata": {
        "colab": {
          "base_uri": "https://localhost:8080/"
        },
        "id": "fe0rMUvs3Js_",
        "outputId": "6a567a6c-b5cf-4b43-9909-214e9834cbfb"
      },
      "execution_count": 38,
      "outputs": [
        {
          "output_type": "stream",
          "name": "stdout",
          "text": [
            "['apple', 'banana', 'watermelon', 'cherry']\n"
          ]
        }
      ]
    },
    {
      "cell_type": "markdown",
      "source": [
        "**Python - Add List Items**\n",
        "\n",
        "---"
      ],
      "metadata": {
        "id": "ovxDKyzzqckm"
      }
    },
    {
      "cell_type": "markdown",
      "source": [
        "Append Items\n",
        "\n",
        "To add an item to the end of the list, use the append() method:\n",
        "\n",
        "Example\n",
        "Using the append() method to append an item:"
      ],
      "metadata": {
        "id": "rskO1xL_qi8F"
      }
    },
    {
      "cell_type": "code",
      "source": [
        "thislist = [\"apple\", \"banana\", \"cherry\"]\n",
        "thislist.append(\"orange\",\"abhsvsv\")\n",
        "print(thislist)"
      ],
      "metadata": {
        "colab": {
          "base_uri": "https://localhost:8080/",
          "height": 200
        },
        "id": "Mt3xaOKSqn8L",
        "outputId": "268f5a7e-3780-42cb-9909-28fcc0d74d92"
      },
      "execution_count": 43,
      "outputs": [
        {
          "output_type": "error",
          "ename": "TypeError",
          "evalue": "ignored",
          "traceback": [
            "\u001b[0;31m---------------------------------------------------------------------------\u001b[0m",
            "\u001b[0;31mTypeError\u001b[0m                                 Traceback (most recent call last)",
            "\u001b[0;32m<ipython-input-43-15c613a9c995>\u001b[0m in \u001b[0;36m<module>\u001b[0;34m\u001b[0m\n\u001b[1;32m      1\u001b[0m \u001b[0mthislist\u001b[0m \u001b[0;34m=\u001b[0m \u001b[0;34m[\u001b[0m\u001b[0;34m\"apple\"\u001b[0m\u001b[0;34m,\u001b[0m \u001b[0;34m\"banana\"\u001b[0m\u001b[0;34m,\u001b[0m \u001b[0;34m\"cherry\"\u001b[0m\u001b[0;34m]\u001b[0m\u001b[0;34m\u001b[0m\u001b[0;34m\u001b[0m\u001b[0m\n\u001b[0;32m----> 2\u001b[0;31m \u001b[0mthislist\u001b[0m\u001b[0;34m.\u001b[0m\u001b[0mappend\u001b[0m\u001b[0;34m(\u001b[0m\u001b[0;34m\"orange\"\u001b[0m\u001b[0;34m,\u001b[0m\u001b[0;34m\"abhsvsv\"\u001b[0m\u001b[0;34m)\u001b[0m\u001b[0;34m\u001b[0m\u001b[0;34m\u001b[0m\u001b[0m\n\u001b[0m\u001b[1;32m      3\u001b[0m \u001b[0mprint\u001b[0m\u001b[0;34m(\u001b[0m\u001b[0mthislist\u001b[0m\u001b[0;34m)\u001b[0m\u001b[0;34m\u001b[0m\u001b[0;34m\u001b[0m\u001b[0m\n",
            "\u001b[0;31mTypeError\u001b[0m: list.append() takes exactly one argument (2 given)"
          ]
        }
      ]
    },
    {
      "cell_type": "markdown",
      "source": [
        "**Insert Items**\n",
        "\n",
        "To insert a list item at a specified index, use the insert() method.\n",
        "\n",
        "The insert() method inserts an item at the specified index:\n",
        "\n",
        "**Example**\n",
        "\n",
        "Insert an item as the second position:"
      ],
      "metadata": {
        "id": "0Yd5lkE0qsN9"
      }
    },
    {
      "cell_type": "code",
      "source": [
        "thislist = [\"apple\", \"banana\", \"cherry\"]\n",
        "thislist.insert(1, \"orange\")\n",
        "print(thislist)"
      ],
      "metadata": {
        "colab": {
          "base_uri": "https://localhost:8080/"
        },
        "id": "PlFyceZ-qvlL",
        "outputId": "9bf93eab-1c90-4100-9770-b0b984e32098"
      },
      "execution_count": 40,
      "outputs": [
        {
          "output_type": "stream",
          "name": "stdout",
          "text": [
            "['apple', 'orange', 'banana', 'cherry']\n"
          ]
        }
      ]
    },
    {
      "cell_type": "markdown",
      "source": [
        "**Extend List**\n",
        "\n",
        "To append elements from another list to the current list, use the extend() method.\n",
        "\n",
        "**Example**\n",
        "\n",
        "Add the elements of tropical to thislist:"
      ],
      "metadata": {
        "id": "DQ4gstydq3OA"
      }
    },
    {
      "cell_type": "code",
      "source": [
        "thislist = [\"apple\", \"banana\", \"cherry\"]\n",
        "tropical = [\"mango\", \"pineapple\", \"papaya\"]\n",
        "thislist.extend(tropical)\n",
        "print(thislist)"
      ],
      "metadata": {
        "colab": {
          "base_uri": "https://localhost:8080/"
        },
        "id": "qg82qLqMq7cP",
        "outputId": "be7294d4-3a95-4165-e272-9fd5bee51ffb"
      },
      "execution_count": 41,
      "outputs": [
        {
          "output_type": "stream",
          "name": "stdout",
          "text": [
            "['apple', 'banana', 'cherry', 'mango', 'pineapple', 'papaya']\n"
          ]
        }
      ]
    },
    {
      "cell_type": "markdown",
      "source": [
        "The elements will be added to the end of the list.\n",
        "\n",
        "Add Any Iterable\n",
        "\n",
        "The extend() method does not have to append lists, you can add any iterable object (tuples, sets, dictionaries etc.).\n",
        "\n",
        "**Example**\n",
        "\n",
        "Add elements of a tuple to a list:"
      ],
      "metadata": {
        "id": "n6SG8459q-0x"
      }
    },
    {
      "cell_type": "code",
      "source": [
        "thislist = [\"apple\", \"banana\", \"cherry\"]\n",
        "thistuple = (\"kiwi\", \"orange\")\n",
        "thislist.extend(thistuple)\n",
        "print(thislist)"
      ],
      "metadata": {
        "colab": {
          "base_uri": "https://localhost:8080/"
        },
        "id": "dArcVTB2rzkD",
        "outputId": "55f231cb-63d9-4adc-ecf8-c4ee37f0a87f"
      },
      "execution_count": 42,
      "outputs": [
        {
          "output_type": "stream",
          "name": "stdout",
          "text": [
            "['apple', 'banana', 'cherry', 'kiwi', 'orange']\n"
          ]
        }
      ]
    },
    {
      "cell_type": "markdown",
      "source": [
        "**Python - Remove List Items**\n",
        "\n",
        "---\n",
        "\n",
        "Remove Specified Item\n",
        "The remove() method removes the specified item"
      ],
      "metadata": {
        "id": "oT4klwcGsQcb"
      }
    },
    {
      "cell_type": "code",
      "source": [
        "thislist = [\"apple\", \"banana\", \"cherry\"]\n",
        "thislist.remove(\"banana\")\n",
        "print(thislist)"
      ],
      "metadata": {
        "colab": {
          "base_uri": "https://localhost:8080/"
        },
        "id": "ksd3dOJasZKT",
        "outputId": "8a43036c-4268-4f58-ee6c-2765487d1e2a"
      },
      "execution_count": 44,
      "outputs": [
        {
          "output_type": "stream",
          "name": "stdout",
          "text": [
            "['apple', 'cherry']\n"
          ]
        }
      ]
    },
    {
      "cell_type": "markdown",
      "source": [
        "**Remove Specified Index**\n",
        "The pop() method removes the specified index.\n",
        "\n",
        "**Example**\n",
        "Remove the second item:"
      ],
      "metadata": {
        "id": "dRgsUHfKsUM7"
      }
    },
    {
      "cell_type": "code",
      "source": [
        "thislist = [\"apple\", \"banana\", \"cherry\"]\n",
        "thislist.pop(1)\n",
        "print(thislist)\n"
      ],
      "metadata": {
        "colab": {
          "base_uri": "https://localhost:8080/"
        },
        "id": "epvHUB7Osne-",
        "outputId": "3c038990-8d01-4736-8293-01debc13a554"
      },
      "execution_count": 45,
      "outputs": [
        {
          "output_type": "stream",
          "name": "stdout",
          "text": [
            "['apple', 'cherry']\n"
          ]
        }
      ]
    },
    {
      "cell_type": "markdown",
      "source": [
        "If you do not specify the index, the pop() method removes the last item.\n",
        "\n",
        "**Example**\n",
        "Remove the last item:"
      ],
      "metadata": {
        "id": "3lFnibyMsq2Y"
      }
    },
    {
      "cell_type": "code",
      "source": [
        "thislist = [\"apple\", \"banana\", \"cherry\"]\n",
        "thislist.pop()\n",
        "print(thislist)"
      ],
      "metadata": {
        "colab": {
          "base_uri": "https://localhost:8080/"
        },
        "id": "OmNueovzszn7",
        "outputId": "b635fe0f-3fa0-4a8b-b5a3-10d3aa2178fe"
      },
      "execution_count": 46,
      "outputs": [
        {
          "output_type": "stream",
          "name": "stdout",
          "text": [
            "['apple', 'banana']\n"
          ]
        }
      ]
    },
    {
      "cell_type": "markdown",
      "source": [
        "**Clear the List**\n",
        "The clear() method empties the list.\n",
        "\n",
        "The list still remains, but it has no content.\n",
        "\n",
        "**Example**\n",
        "Clear the list content:"
      ],
      "metadata": {
        "id": "oG7z-SGasq0V"
      }
    },
    {
      "cell_type": "code",
      "source": [
        "thislist = [\"apple\", \"banana\", \"cherry\"]\n",
        "thislist.clear()\n",
        "print(thislist)"
      ],
      "metadata": {
        "colab": {
          "base_uri": "https://localhost:8080/"
        },
        "id": "uKUXpyOItBTT",
        "outputId": "bad5d88f-8f52-417c-a349-8d3b565a6101"
      },
      "execution_count": 47,
      "outputs": [
        {
          "output_type": "stream",
          "name": "stdout",
          "text": [
            "[]\n"
          ]
        }
      ]
    }
  ],
  "metadata": {
    "kernelspec": {
      "display_name": "Python 3",
      "language": "python",
      "name": "python3"
    },
    "language_info": {
      "codemirror_mode": {
        "name": "ipython",
        "version": 3
      },
      "file_extension": ".py",
      "mimetype": "text/x-python",
      "name": "python",
      "nbconvert_exporter": "python",
      "pygments_lexer": "ipython3",
      "version": "3.7.3"
    },
    "colab": {
      "provenance": []
    }
  },
  "nbformat": 4,
  "nbformat_minor": 0
}